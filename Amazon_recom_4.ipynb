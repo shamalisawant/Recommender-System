{
 "cells": [
  {
   "cell_type": "markdown",
   "metadata": {},
   "source": [
    "<h1 style='color:red'> Project 3: Building user-based recommendation model for Amazon</h1>\n",
    "<h3 style='color:blue'> Ms. Shamali V. Sawant</h3>"
   ]
  },
  {
   "cell_type": "markdown",
   "metadata": {},
   "source": [
    "<h3 style='color:orange'>DESCRIPTION</h3>\n",
    "\n",
    "**The dataset provided contains movie reviews given by Amazon customers.**\n",
    "\n",
    "**Data Dictionary**\n",
    "* UserID – 4848 customers who provided a rating for each movie\n",
    "* Movie 1 to Movie 206 – 206 movies for which ratings are provided by 4848 distinct users\n",
    "\n",
    "**Data Considerations**\n",
    "- All the users have not watched all the movies and therefore, all movies are not rated. These missing values are represented by NA.\n",
    "- Ratings are on a scale of 0 to 5 where 0 is the least rating and 5 is the best."
   ]
  },
  {
   "cell_type": "markdown",
   "metadata": {},
   "source": [
    "# 1. Import necessary libraries for EDA "
   ]
  },
  {
   "cell_type": "code",
   "execution_count": 1,
   "metadata": {},
   "outputs": [],
   "source": [
    "import pandas as pd\n",
    "import numpy as np\n",
    "\n",
    "import matplotlib.pyplot as plt\n",
    "import seaborn as sns\n",
    "\n",
    "from IPython.display import display_html\n",
    "\n",
    "from math import sqrt\n",
    "\n",
    "from sklearn.model_selection import train_test_split\n",
    "from sklearn.metrics import mean_squared_error\n",
    "\n",
    "from termcolor import colored\n",
    "from colored import stylize\n",
    "from IPython.display import Markdown, display\n",
    "from IPython.display import HTML\n",
    "\n",
    "import warnings \n",
    "warnings.filterwarnings('ignore')"
   ]
  },
  {
   "cell_type": "code",
   "execution_count": 2,
   "metadata": {},
   "outputs": [],
   "source": [
    "#define necessary functions\n",
    "#for customized printing\n",
    "def printmd(string, color=None):\n",
    "    colorstr = \"<span style='color:{}'>{}</span>\".format(color, string)\n",
    "    display(Markdown(colorstr))\n",
    "#define function to plot distribution\n",
    "def distplot(figRows,figCols,xSize, ySize, data, features, colors, kde=True, bins=None):\n",
    "    f, axes = plt.subplots(figRows, figCols, figsize=(xSize, ySize))\n",
    "    \n",
    "    features = np.array(features).reshape(figRows, figCols)\n",
    "    colors = np.array(colors).reshape(figRows, figCols)\n",
    "    \n",
    "    for row in range(figRows):\n",
    "        for col in range(figCols):\n",
    "            if (figRows == 1 and figCols == 1) :\n",
    "                axesplt = axes\n",
    "            elif (figRows == 1 and figCols > 1) :\n",
    "                axesplt = axes[col]\n",
    "            elif (figRows > 1 and figCols == 1) :\n",
    "                axesplt = axes[row]\n",
    "            else:\n",
    "                axesplt = axes[row][col]\n",
    "            plot = sns.distplot(data[features[row][col]], color=colors[row][col], bins=bins, ax=axesplt, kde=kde, hist_kws={\"edgecolor\":\"k\"})\n",
    "            plot.set_xlabel(features[row][col],fontsize=20)\n",
    "            \n",
    "#define function to display dataframes side by side\n",
    "def display_side_by_side(args):\n",
    "    html_str =''\n",
    "    for df in args:\n",
    "        html_str+=df.to_html()\n",
    "    display_html(html_str.replace('table','table style=\"display:inline;margin-left:50px !important;margin-right: 40px !important\"'),raw=True)"
   ]
  },
  {
   "cell_type": "code",
   "execution_count": 3,
   "metadata": {},
   "outputs": [
    {
     "data": {
      "text/html": [
       "<div>\n",
       "<style scoped>\n",
       "    .dataframe tbody tr th:only-of-type {\n",
       "        vertical-align: middle;\n",
       "    }\n",
       "\n",
       "    .dataframe tbody tr th {\n",
       "        vertical-align: top;\n",
       "    }\n",
       "\n",
       "    .dataframe thead th {\n",
       "        text-align: right;\n",
       "    }\n",
       "</style>\n",
       "<table border=\"1\" class=\"dataframe\">\n",
       "  <thead>\n",
       "    <tr style=\"text-align: right;\">\n",
       "      <th></th>\n",
       "      <th>user_id</th>\n",
       "      <th>Movie1</th>\n",
       "      <th>Movie2</th>\n",
       "      <th>Movie3</th>\n",
       "      <th>Movie4</th>\n",
       "      <th>Movie5</th>\n",
       "      <th>Movie6</th>\n",
       "      <th>Movie7</th>\n",
       "      <th>Movie8</th>\n",
       "      <th>Movie9</th>\n",
       "      <th>...</th>\n",
       "      <th>Movie197</th>\n",
       "      <th>Movie198</th>\n",
       "      <th>Movie199</th>\n",
       "      <th>Movie200</th>\n",
       "      <th>Movie201</th>\n",
       "      <th>Movie202</th>\n",
       "      <th>Movie203</th>\n",
       "      <th>Movie204</th>\n",
       "      <th>Movie205</th>\n",
       "      <th>Movie206</th>\n",
       "    </tr>\n",
       "  </thead>\n",
       "  <tbody>\n",
       "    <tr>\n",
       "      <th>0</th>\n",
       "      <td>A3R5OBKS7OM2IR</td>\n",
       "      <td>5.0</td>\n",
       "      <td>5.0</td>\n",
       "      <td>NaN</td>\n",
       "      <td>NaN</td>\n",
       "      <td>NaN</td>\n",
       "      <td>NaN</td>\n",
       "      <td>NaN</td>\n",
       "      <td>NaN</td>\n",
       "      <td>NaN</td>\n",
       "      <td>...</td>\n",
       "      <td>NaN</td>\n",
       "      <td>NaN</td>\n",
       "      <td>NaN</td>\n",
       "      <td>NaN</td>\n",
       "      <td>NaN</td>\n",
       "      <td>NaN</td>\n",
       "      <td>NaN</td>\n",
       "      <td>NaN</td>\n",
       "      <td>NaN</td>\n",
       "      <td>NaN</td>\n",
       "    </tr>\n",
       "    <tr>\n",
       "      <th>1</th>\n",
       "      <td>AH3QC2PC1VTGP</td>\n",
       "      <td>NaN</td>\n",
       "      <td>NaN</td>\n",
       "      <td>2.0</td>\n",
       "      <td>NaN</td>\n",
       "      <td>NaN</td>\n",
       "      <td>NaN</td>\n",
       "      <td>NaN</td>\n",
       "      <td>NaN</td>\n",
       "      <td>NaN</td>\n",
       "      <td>...</td>\n",
       "      <td>NaN</td>\n",
       "      <td>NaN</td>\n",
       "      <td>NaN</td>\n",
       "      <td>NaN</td>\n",
       "      <td>NaN</td>\n",
       "      <td>NaN</td>\n",
       "      <td>NaN</td>\n",
       "      <td>NaN</td>\n",
       "      <td>NaN</td>\n",
       "      <td>NaN</td>\n",
       "    </tr>\n",
       "    <tr>\n",
       "      <th>2</th>\n",
       "      <td>A3LKP6WPMP9UKX</td>\n",
       "      <td>NaN</td>\n",
       "      <td>NaN</td>\n",
       "      <td>NaN</td>\n",
       "      <td>5.0</td>\n",
       "      <td>NaN</td>\n",
       "      <td>NaN</td>\n",
       "      <td>NaN</td>\n",
       "      <td>NaN</td>\n",
       "      <td>NaN</td>\n",
       "      <td>...</td>\n",
       "      <td>NaN</td>\n",
       "      <td>NaN</td>\n",
       "      <td>NaN</td>\n",
       "      <td>NaN</td>\n",
       "      <td>NaN</td>\n",
       "      <td>NaN</td>\n",
       "      <td>NaN</td>\n",
       "      <td>NaN</td>\n",
       "      <td>NaN</td>\n",
       "      <td>NaN</td>\n",
       "    </tr>\n",
       "    <tr>\n",
       "      <th>3</th>\n",
       "      <td>AVIY68KEPQ5ZD</td>\n",
       "      <td>NaN</td>\n",
       "      <td>NaN</td>\n",
       "      <td>NaN</td>\n",
       "      <td>5.0</td>\n",
       "      <td>NaN</td>\n",
       "      <td>NaN</td>\n",
       "      <td>NaN</td>\n",
       "      <td>NaN</td>\n",
       "      <td>NaN</td>\n",
       "      <td>...</td>\n",
       "      <td>NaN</td>\n",
       "      <td>NaN</td>\n",
       "      <td>NaN</td>\n",
       "      <td>NaN</td>\n",
       "      <td>NaN</td>\n",
       "      <td>NaN</td>\n",
       "      <td>NaN</td>\n",
       "      <td>NaN</td>\n",
       "      <td>NaN</td>\n",
       "      <td>NaN</td>\n",
       "    </tr>\n",
       "    <tr>\n",
       "      <th>4</th>\n",
       "      <td>A1CV1WROP5KTTW</td>\n",
       "      <td>NaN</td>\n",
       "      <td>NaN</td>\n",
       "      <td>NaN</td>\n",
       "      <td>NaN</td>\n",
       "      <td>5.0</td>\n",
       "      <td>NaN</td>\n",
       "      <td>NaN</td>\n",
       "      <td>NaN</td>\n",
       "      <td>NaN</td>\n",
       "      <td>...</td>\n",
       "      <td>NaN</td>\n",
       "      <td>NaN</td>\n",
       "      <td>NaN</td>\n",
       "      <td>NaN</td>\n",
       "      <td>NaN</td>\n",
       "      <td>NaN</td>\n",
       "      <td>NaN</td>\n",
       "      <td>NaN</td>\n",
       "      <td>NaN</td>\n",
       "      <td>NaN</td>\n",
       "    </tr>\n",
       "  </tbody>\n",
       "</table>\n",
       "<p>5 rows × 207 columns</p>\n",
       "</div>"
      ],
      "text/plain": [
       "          user_id  Movie1  Movie2  Movie3  Movie4  Movie5  Movie6  Movie7  \\\n",
       "0  A3R5OBKS7OM2IR     5.0     5.0     NaN     NaN     NaN     NaN     NaN   \n",
       "1   AH3QC2PC1VTGP     NaN     NaN     2.0     NaN     NaN     NaN     NaN   \n",
       "2  A3LKP6WPMP9UKX     NaN     NaN     NaN     5.0     NaN     NaN     NaN   \n",
       "3   AVIY68KEPQ5ZD     NaN     NaN     NaN     5.0     NaN     NaN     NaN   \n",
       "4  A1CV1WROP5KTTW     NaN     NaN     NaN     NaN     5.0     NaN     NaN   \n",
       "\n",
       "   Movie8  Movie9  ...  Movie197  Movie198  Movie199  Movie200  Movie201  \\\n",
       "0     NaN     NaN  ...       NaN       NaN       NaN       NaN       NaN   \n",
       "1     NaN     NaN  ...       NaN       NaN       NaN       NaN       NaN   \n",
       "2     NaN     NaN  ...       NaN       NaN       NaN       NaN       NaN   \n",
       "3     NaN     NaN  ...       NaN       NaN       NaN       NaN       NaN   \n",
       "4     NaN     NaN  ...       NaN       NaN       NaN       NaN       NaN   \n",
       "\n",
       "   Movie202  Movie203  Movie204  Movie205  Movie206  \n",
       "0       NaN       NaN       NaN       NaN       NaN  \n",
       "1       NaN       NaN       NaN       NaN       NaN  \n",
       "2       NaN       NaN       NaN       NaN       NaN  \n",
       "3       NaN       NaN       NaN       NaN       NaN  \n",
       "4       NaN       NaN       NaN       NaN       NaN  \n",
       "\n",
       "[5 rows x 207 columns]"
      ]
     },
     "execution_count": 3,
     "metadata": {},
     "output_type": "execute_result"
    }
   ],
   "source": [
    "df = pd.read_csv(\"Amazon - Movies and TV Ratings.csv\")\n",
    "df.head()"
   ]
  },
  {
   "cell_type": "code",
   "execution_count": 4,
   "metadata": {},
   "outputs": [
    {
     "name": "stdout",
     "output_type": "stream",
     "text": [
      "5.0    1\n",
      "Name: Movie1, dtype: int64\n",
      "5.0    1\n",
      "Name: Movie2, dtype: int64\n",
      "2.0    1\n",
      "Name: Movie3, dtype: int64\n",
      "5.0    2\n",
      "Name: Movie4, dtype: int64\n",
      "5.0    20\n",
      "2.0     4\n",
      "1.0     3\n",
      "4.0     2\n",
      "Name: Movie5, dtype: int64\n",
      "4.0    1\n",
      "Name: Movie6, dtype: int64\n",
      "5.0    1\n",
      "Name: Movie7, dtype: int64\n",
      "5.0    1\n",
      "Name: Movie8, dtype: int64\n",
      "5.0    1\n",
      "Name: Movie9, dtype: int64\n",
      "5.0    1\n",
      "Name: Movie10, dtype: int64\n",
      "5.0    2\n",
      "Name: Movie11, dtype: int64\n",
      "5.0    5\n",
      "Name: Movie12, dtype: int64\n",
      "5.0    1\n",
      "Name: Movie13, dtype: int64\n",
      "4.0    1\n",
      "Name: Movie14, dtype: int64\n",
      "5.0    1\n",
      "Name: Movie15, dtype: int64\n",
      "5.0    213\n",
      "4.0     71\n",
      "3.0     28\n",
      "2.0      5\n",
      "1.0      3\n",
      "Name: Movie16, dtype: int64\n",
      "3.0    1\n",
      "Name: Movie17, dtype: int64\n",
      "5.0    1\n",
      "Name: Movie18, dtype: int64\n",
      "5.0    1\n",
      "2.0    1\n",
      "Name: Movie19, dtype: int64\n",
      "3.0    1\n",
      "Name: Movie20, dtype: int64\n",
      "5.0    1\n",
      "Name: Movie21, dtype: int64\n",
      "5.0    2\n",
      "Name: Movie22, dtype: int64\n",
      "5.0    3\n",
      "Name: Movie23, dtype: int64\n",
      "5.0    4\n",
      "2.0    1\n",
      "Name: Movie24, dtype: int64\n",
      "5.0    1\n",
      "Name: Movie25, dtype: int64\n",
      "4.0    2\n",
      "1.0    1\n",
      "Name: Movie26, dtype: int64\n",
      "5.0    1\n",
      "Name: Movie27, dtype: int64\n",
      "5.0    1\n",
      "3.0    1\n",
      "2.0    1\n",
      "Name: Movie28, dtype: int64\n",
      "5.0    215\n",
      "4.0     19\n",
      "1.0      4\n",
      "3.0      3\n",
      "2.0      2\n",
      "Name: Movie29, dtype: int64\n",
      "5.0    1\n",
      "4.0    1\n",
      "Name: Movie30, dtype: int64\n",
      "5.0    2\n",
      "Name: Movie31, dtype: int64\n",
      "5.0    1\n",
      "4.0    1\n",
      "Name: Movie32, dtype: int64\n",
      "5.0    1\n",
      "Name: Movie33, dtype: int64\n",
      "5.0    1\n",
      "Name: Movie34, dtype: int64\n",
      "5.0    1\n",
      "Name: Movie35, dtype: int64\n",
      "5.0    1\n",
      "Name: Movie36, dtype: int64\n",
      "5.0    1\n",
      "Name: Movie37, dtype: int64\n",
      "5.0    1\n",
      "Name: Movie38, dtype: int64\n",
      "5.0    4\n",
      "Name: Movie39, dtype: int64\n",
      "5.0    3\n",
      "Name: Movie40, dtype: int64\n",
      "5.0    1\n",
      "Name: Movie41, dtype: int64\n",
      "5.0    1\n",
      "Name: Movie42, dtype: int64\n",
      "5.0    6\n",
      "4.0    1\n",
      "Name: Movie43, dtype: int64\n",
      "5.0    2\n",
      "Name: Movie44, dtype: int64\n",
      "1.0    1\n",
      "Name: Movie45, dtype: int64\n",
      "5.0    1\n",
      "Name: Movie46, dtype: int64\n",
      "5.0    1\n",
      "Name: Movie47, dtype: int64\n",
      "5.0    1\n",
      "Name: Movie48, dtype: int64\n",
      "5.0    1\n",
      "Name: Movie49, dtype: int64\n",
      "5.0    1\n",
      "Name: Movie50, dtype: int64\n",
      "5.0    1\n",
      "4.0    1\n",
      "Name: Movie51, dtype: int64\n",
      "5.0    6\n",
      "4.0    4\n",
      "1.0    3\n",
      "3.0    2\n",
      "2.0    2\n",
      "Name: Movie52, dtype: int64\n",
      "1.0    2\n",
      "4.0    1\n",
      "Name: Movie53, dtype: int64\n",
      "5.0    1\n",
      "Name: Movie54, dtype: int64\n",
      "5.0    1\n",
      "Name: Movie55, dtype: int64\n",
      "5.0    1\n",
      "Name: Movie56, dtype: int64\n",
      "5.0    1\n",
      "Name: Movie57, dtype: int64\n",
      "1.0    1\n",
      "Name: Movie58, dtype: int64\n",
      "2.0    1\n",
      "Name: Movie59, dtype: int64\n",
      "1.0    1\n",
      "Name: Movie60, dtype: int64\n",
      "5.0    1\n",
      "Name: Movie61, dtype: int64\n",
      "5.0    2\n",
      "1.0    2\n",
      "Name: Movie62, dtype: int64\n",
      "5.0    1\n",
      "Name: Movie63, dtype: int64\n",
      "3.0    1\n",
      "Name: Movie64, dtype: int64\n",
      "5.0    1\n",
      "Name: Movie65, dtype: int64\n",
      "5.0    1\n",
      "Name: Movie66, dtype: int64\n",
      "1.0    1\n",
      "Name: Movie67, dtype: int64\n",
      "5.0    1\n",
      "Name: Movie68, dtype: int64\n",
      "1.0    1\n",
      "Name: Movie69, dtype: int64\n",
      "5.0    2\n",
      "Name: Movie70, dtype: int64\n",
      "4.0    1\n",
      "Name: Movie71, dtype: int64\n",
      "5.0    1\n",
      "Name: Movie72, dtype: int64\n",
      "2.0    1\n",
      "Name: Movie73, dtype: int64\n",
      "5.0    1\n",
      "Name: Movie74, dtype: int64\n",
      "5.0    1\n",
      "Name: Movie75, dtype: int64\n",
      "5.0    2\n",
      "Name: Movie76, dtype: int64\n",
      "5.0    1\n",
      "Name: Movie77, dtype: int64\n",
      "5.0    1\n",
      "Name: Movie78, dtype: int64\n",
      "5.0    2\n",
      "Name: Movie79, dtype: int64\n",
      "4.0    1\n",
      "Name: Movie80, dtype: int64\n",
      "5.0    8\n",
      "4.0    3\n",
      "1.0    1\n",
      "Name: Movie81, dtype: int64\n",
      "5.0    2\n",
      "Name: Movie82, dtype: int64\n",
      "3.0    1\n",
      "Name: Movie83, dtype: int64\n",
      "5.0    1\n",
      "Name: Movie84, dtype: int64\n",
      "5.0    3\n",
      "Name: Movie85, dtype: int64\n",
      "5.0    18\n",
      "1.0     1\n",
      "4.0     1\n",
      "3.0     1\n",
      "Name: Movie86, dtype: int64\n",
      "5.0    1\n",
      "Name: Movie87, dtype: int64\n",
      "4.0    1\n",
      "Name: Movie88, dtype: int64\n",
      "5.0    64\n",
      "4.0     9\n",
      "3.0     6\n",
      "1.0     2\n",
      "2.0     2\n",
      "Name: Movie89, dtype: int64\n",
      "1.0    13\n",
      "5.0     2\n",
      "4.0     2\n",
      "2.0     1\n",
      "Name: Movie90, dtype: int64\n",
      "5.0    103\n",
      "4.0     10\n",
      "3.0      6\n",
      "1.0      5\n",
      "2.0      4\n",
      "Name: Movie91, dtype: int64\n",
      "5.0    87\n",
      "4.0     7\n",
      "3.0     5\n",
      "2.0     2\n",
      "Name: Movie92, dtype: int64\n",
      "5.0    2\n",
      "Name: Movie93, dtype: int64\n",
      "4.0    2\n",
      "5.0    1\n",
      "Name: Movie94, dtype: int64\n",
      "5.0    3\n",
      "1.0    2\n",
      "3.0    1\n",
      "Name: Movie95, dtype: int64\n",
      "5.0    3\n",
      "Name: Movie96, dtype: int64\n",
      "5.0    4\n",
      "4.0    1\n",
      "Name: Movie97, dtype: int64\n",
      "5.0    1\n",
      "Name: Movie98, dtype: int64\n",
      "3.0    1\n",
      "5.0    1\n",
      "Name: Movie99, dtype: int64\n",
      "4.0    1\n",
      "Name: Movie100, dtype: int64\n",
      "5.0    5\n",
      "Name: Movie101, dtype: int64\n",
      "3.0    1\n",
      "5.0    1\n",
      "Name: Movie102, dtype: int64\n",
      "5.0    215\n",
      "4.0     29\n",
      "1.0     17\n",
      "3.0     11\n",
      "Name: Movie103, dtype: int64\n",
      "4.0    2\n",
      "5.0    2\n",
      "Name: Movie104, dtype: int64\n",
      "5.0    3\n",
      "Name: Movie105, dtype: int64\n",
      "5.0    1\n",
      "Name: Movie106, dtype: int64\n",
      "5.0    23\n",
      "4.0     6\n",
      "1.0     5\n",
      "2.0     3\n",
      "3.0     2\n",
      "Name: Movie107, dtype: int64\n",
      "5.0    42\n",
      "4.0     8\n",
      "3.0     3\n",
      "1.0     1\n",
      "Name: Movie108, dtype: int64\n",
      "5.0    9\n",
      "3.0    2\n",
      "4.0    1\n",
      "2.0    1\n",
      "Name: Movie109, dtype: int64\n",
      "5.0    7\n",
      "4.0    1\n",
      "Name: Movie110, dtype: int64\n",
      "5.0    31\n",
      "4.0     5\n",
      "1.0     1\n",
      "2.0     1\n",
      "3.0     1\n",
      "Name: Movie111, dtype: int64\n",
      "5.0    2\n",
      "Name: Movie112, dtype: int64\n",
      "5.0    2\n",
      "3.0    1\n",
      "2.0    1\n",
      "Name: Movie113, dtype: int64\n",
      "5.0    5\n",
      "4.0    1\n",
      "2.0    1\n",
      "Name: Movie114, dtype: int64\n",
      "4.0    1\n",
      "Name: Movie115, dtype: int64\n",
      "5.0    1\n",
      "Name: Movie116, dtype: int64\n",
      "5.0    10\n",
      "2.0     1\n",
      "Name: Movie117, dtype: int64\n",
      "5.0    5\n",
      "Name: Movie118, dtype: int64\n",
      "5.0    6\n",
      "3.0    1\n",
      "2.0    1\n",
      "Name: Movie119, dtype: int64\n",
      "5.0    3\n",
      "Name: Movie120, dtype: int64\n",
      "5.0    2\n",
      "3.0    1\n",
      "4.0    1\n",
      "Name: Movie121, dtype: int64\n",
      "5.0    4\n",
      "Name: Movie122, dtype: int64\n",
      "5.0    1\n",
      "Name: Movie123, dtype: int64\n",
      "5.0    3\n",
      "4.0    1\n",
      "Name: Movie124, dtype: int64\n",
      "5.0    4\n",
      "4.0    1\n",
      "Name: Movie125, dtype: int64\n",
      "5.0    1\n",
      "4.0    1\n",
      "Name: Movie126, dtype: int64\n",
      "5.0    1512\n",
      "1.0     277\n",
      "4.0     236\n",
      "3.0     154\n",
      "2.0     134\n",
      "Name: Movie127, dtype: int64\n",
      "5.0    3\n",
      "Name: Movie128, dtype: int64\n",
      "5.0    2\n",
      "2.0    1\n",
      "Name: Movie129, dtype: int64\n",
      "5.0    3\n",
      "3.0    1\n",
      "Name: Movie130, dtype: int64\n",
      "5.0    4\n",
      "Name: Movie131, dtype: int64\n",
      "5.0    3\n",
      "Name: Movie132, dtype: int64\n",
      "5.0    1\n",
      "Name: Movie133, dtype: int64\n",
      "5.0    3\n",
      "4.0    1\n",
      "3.0    1\n",
      "2.0    1\n",
      "Name: Movie134, dtype: int64\n",
      "5.0    1\n",
      "Name: Movie135, dtype: int64\n",
      "5.0    2\n",
      "Name: Movie136, dtype: int64\n",
      "5.0    2\n",
      "2.0    1\n",
      "Name: Movie137, dtype: int64\n",
      "5.0    8\n",
      "3.0    2\n",
      "2.0    1\n",
      "4.0    1\n",
      "1.0    1\n",
      "Name: Movie138, dtype: int64\n",
      "5.0    4\n",
      "Name: Movie139, dtype: int64\n",
      "5.0    523\n",
      "4.0     33\n",
      "3.0     10\n",
      "1.0      7\n",
      "2.0      5\n",
      "Name: Movie140, dtype: int64\n",
      "5.0    4\n",
      "2.0    1\n",
      "4.0    1\n",
      "3.0    1\n",
      "Name: Movie141, dtype: int64\n",
      "5.0    1\n",
      "Name: Movie142, dtype: int64\n",
      "5.0    1\n",
      "Name: Movie143, dtype: int64\n",
      "1.0    1\n",
      "Name: Movie144, dtype: int64\n",
      "5.0    1\n",
      "Name: Movie145, dtype: int64\n",
      "4.0    1\n",
      "Name: Movie146, dtype: int64\n",
      "5.0    1\n",
      "Name: Movie147, dtype: int64\n",
      "5.0    2\n",
      "Name: Movie148, dtype: int64\n",
      "5.0    1\n",
      "Name: Movie149, dtype: int64\n",
      "5.0    3\n",
      "Name: Movie150, dtype: int64\n",
      "4.0    1\n",
      "5.0    1\n",
      "Name: Movie151, dtype: int64\n",
      "5.0    1\n",
      "Name: Movie152, dtype: int64\n",
      "5.0    1\n",
      "Name: Movie153, dtype: int64\n",
      "1.0    1\n",
      "Name: Movie154, dtype: int64\n",
      "5.0    1\n",
      "3.0    1\n",
      "Name: Movie155, dtype: int64\n",
      "4.0    1\n",
      "Name: Movie156, dtype: int64\n",
      "5.0    4\n",
      "Name: Movie157, dtype: int64\n",
      "5.0    59\n",
      "4.0     4\n",
      "3.0     2\n",
      "1.0     1\n",
      "Name: Movie158, dtype: int64\n",
      "2.0    1\n",
      "4.0    1\n",
      "Name: Movie159, dtype: int64\n",
      "5.0    4\n",
      "4.0    2\n",
      "Name: Movie160, dtype: int64\n",
      "5.0    18\n",
      "4.0     4\n",
      "3.0     3\n",
      "Name: Movie161, dtype: int64\n",
      "5.0    14\n",
      "3.0     1\n",
      "Name: Movie162, dtype: int64\n",
      "5.0    9\n",
      "3.0    3\n",
      "4.0    1\n",
      "Name: Movie163, dtype: int64\n",
      "5.0    4\n",
      "Name: Movie164, dtype: int64\n",
      "5.0    1\n",
      "Name: Movie165, dtype: int64\n",
      "4.0    2\n",
      "Name: Movie166, dtype: int64\n",
      "5.0    4\n",
      "Name: Movie167, dtype: int64\n",
      "5.0    4\n",
      "Name: Movie168, dtype: int64\n",
      "5.0    4\n",
      "Name: Movie169, dtype: int64\n",
      "5.0    2\n",
      "3.0    1\n",
      "Name: Movie170, dtype: int64\n",
      "2.0    1\n",
      "Name: Movie171, dtype: int64\n",
      "4.0    1\n",
      "5.0    1\n",
      "Name: Movie172, dtype: int64\n",
      "5.0    13\n",
      "3.0     2\n",
      "Name: Movie173, dtype: int64\n",
      "5.0    3\n",
      "4.0    1\n",
      "Name: Movie174, dtype: int64\n",
      "5.0    1\n",
      "Name: Movie175, dtype: int64\n",
      "5.0    1\n",
      "Name: Movie176, dtype: int64\n",
      "5.0    1\n",
      "Name: Movie177, dtype: int64\n",
      "5.0    1\n",
      "Name: Movie178, dtype: int64\n",
      "5.0    6\n",
      "3.0    1\n",
      "Name: Movie179, dtype: int64\n",
      "5.0    1\n",
      "Name: Movie180, dtype: int64\n",
      "5.0    2\n",
      "Name: Movie181, dtype: int64\n",
      "5.0    24\n",
      "4.0     5\n",
      "2.0     1\n",
      "Name: Movie182, dtype: int64\n",
      "5.0    1\n",
      "Name: Movie183, dtype: int64\n",
      "5.0    15\n",
      "3.0     1\n",
      "4.0     1\n",
      "Name: Movie184, dtype: int64\n",
      "5.0    20\n",
      "4.0     3\n",
      "3.0     1\n",
      "Name: Movie185, dtype: int64\n",
      "5.0    9\n",
      "Name: Movie186, dtype: int64\n",
      "5.0    1\n",
      "Name: Movie187, dtype: int64\n",
      "5.0    6\n",
      "Name: Movie188, dtype: int64\n",
      "5.0    5\n",
      "Name: Movie189, dtype: int64\n",
      "5.0    6\n",
      "3.0    1\n",
      "Name: Movie190, dtype: int64\n",
      "5.0    6\n",
      "Name: Movie191, dtype: int64\n",
      "5.0    6\n",
      "4.0    3\n",
      "3.0    1\n",
      "Name: Movie192, dtype: int64\n",
      "5.0    5\n",
      "4.0    1\n",
      "3.0    1\n",
      "Name: Movie193, dtype: int64\n",
      "5.0    5\n",
      "4.0    2\n",
      "Name: Movie194, dtype: int64\n",
      "4.0    1\n",
      "Name: Movie195, dtype: int64\n",
      "5.0    8\n",
      "4.0    1\n",
      "Name: Movie196, dtype: int64\n",
      "5.0    2\n",
      "4.0    2\n",
      "1.0    1\n",
      "Name: Movie197, dtype: int64\n",
      "5.0    2\n",
      "Name: Movie198, dtype: int64\n",
      "5.0    1\n",
      "Name: Movie199, dtype: int64\n",
      "5.0    5\n",
      "4.0    3\n",
      "Name: Movie200, dtype: int64\n",
      "5.0    2\n",
      "3.0    1\n",
      "Name: Movie201, dtype: int64\n",
      "5.0    5\n",
      "1.0    1\n",
      "Name: Movie202, dtype: int64\n",
      "3.0    1\n",
      "Name: Movie203, dtype: int64\n",
      "5.0    6\n",
      "4.0    1\n",
      "1.0    1\n",
      "Name: Movie204, dtype: int64\n",
      "5.0    28\n",
      "4.0     4\n",
      "3.0     1\n",
      "1.0     1\n",
      "2.0     1\n",
      "Name: Movie205, dtype: int64\n",
      "5.0    12\n",
      "4.0     1\n",
      "Name: Movie206, dtype: int64\n"
     ]
    }
   ],
   "source": [
    "for i in df.columns[1:]:\n",
    "    print(df[i].value_counts())"
   ]
  },
  {
   "cell_type": "code",
   "execution_count": 5,
   "metadata": {},
   "outputs": [],
   "source": [
    "df_copy = df.copy()"
   ]
  },
  {
   "cell_type": "code",
   "execution_count": 6,
   "metadata": {},
   "outputs": [
    {
     "data": {
      "text/html": [
       "<div>\n",
       "<style scoped>\n",
       "    .dataframe tbody tr th:only-of-type {\n",
       "        vertical-align: middle;\n",
       "    }\n",
       "\n",
       "    .dataframe tbody tr th {\n",
       "        vertical-align: top;\n",
       "    }\n",
       "\n",
       "    .dataframe thead th {\n",
       "        text-align: right;\n",
       "    }\n",
       "</style>\n",
       "<table border=\"1\" class=\"dataframe\">\n",
       "  <thead>\n",
       "    <tr style=\"text-align: right;\">\n",
       "      <th></th>\n",
       "      <th>user_id</th>\n",
       "      <th>movie_id</th>\n",
       "      <th>rating</th>\n",
       "    </tr>\n",
       "  </thead>\n",
       "  <tbody>\n",
       "    <tr>\n",
       "      <th>0</th>\n",
       "      <td>A3R5OBKS7OM2IR</td>\n",
       "      <td>Movie1</td>\n",
       "      <td>5.0</td>\n",
       "    </tr>\n",
       "    <tr>\n",
       "      <th>1</th>\n",
       "      <td>A1KI6L82M5RAHQ</td>\n",
       "      <td>Movie127</td>\n",
       "      <td>5.0</td>\n",
       "    </tr>\n",
       "    <tr>\n",
       "      <th>2</th>\n",
       "      <td>A31FT2I8MLE4EC</td>\n",
       "      <td>Movie127</td>\n",
       "      <td>5.0</td>\n",
       "    </tr>\n",
       "    <tr>\n",
       "      <th>3</th>\n",
       "      <td>A34JCDB3DPJ1I5</td>\n",
       "      <td>Movie127</td>\n",
       "      <td>5.0</td>\n",
       "    </tr>\n",
       "    <tr>\n",
       "      <th>4</th>\n",
       "      <td>A34I0F2UBJ6YBP</td>\n",
       "      <td>Movie127</td>\n",
       "      <td>5.0</td>\n",
       "    </tr>\n",
       "    <tr>\n",
       "      <th>...</th>\n",
       "      <td>...</td>\n",
       "      <td>...</td>\n",
       "      <td>...</td>\n",
       "    </tr>\n",
       "    <tr>\n",
       "      <th>998683</th>\n",
       "      <td>A2G3QM6ZLT66HO</td>\n",
       "      <td>Movie206</td>\n",
       "      <td>NaN</td>\n",
       "    </tr>\n",
       "    <tr>\n",
       "      <th>998684</th>\n",
       "      <td>A2YSM4732ZHGZB</td>\n",
       "      <td>Movie206</td>\n",
       "      <td>NaN</td>\n",
       "    </tr>\n",
       "    <tr>\n",
       "      <th>998685</th>\n",
       "      <td>A1PT4GB3A675ZW</td>\n",
       "      <td>Movie206</td>\n",
       "      <td>NaN</td>\n",
       "    </tr>\n",
       "    <tr>\n",
       "      <th>998686</th>\n",
       "      <td>A23E3CUB03Z3YX</td>\n",
       "      <td>Movie206</td>\n",
       "      <td>NaN</td>\n",
       "    </tr>\n",
       "    <tr>\n",
       "      <th>998687</th>\n",
       "      <td>A1DQA0HJSSAD5A</td>\n",
       "      <td>Movie206</td>\n",
       "      <td>NaN</td>\n",
       "    </tr>\n",
       "  </tbody>\n",
       "</table>\n",
       "<p>998688 rows × 3 columns</p>\n",
       "</div>"
      ],
      "text/plain": [
       "               user_id  movie_id  rating\n",
       "0       A3R5OBKS7OM2IR    Movie1     5.0\n",
       "1       A1KI6L82M5RAHQ  Movie127     5.0\n",
       "2       A31FT2I8MLE4EC  Movie127     5.0\n",
       "3       A34JCDB3DPJ1I5  Movie127     5.0\n",
       "4       A34I0F2UBJ6YBP  Movie127     5.0\n",
       "...                ...       ...     ...\n",
       "998683  A2G3QM6ZLT66HO  Movie206     NaN\n",
       "998684  A2YSM4732ZHGZB  Movie206     NaN\n",
       "998685  A1PT4GB3A675ZW  Movie206     NaN\n",
       "998686  A23E3CUB03Z3YX  Movie206     NaN\n",
       "998687  A1DQA0HJSSAD5A  Movie206     NaN\n",
       "\n",
       "[998688 rows x 3 columns]"
      ]
     },
     "execution_count": 6,
     "metadata": {},
     "output_type": "execute_result"
    }
   ],
   "source": [
    "df2=df_copy.melt(id_vars=['user_id'], \n",
    "        var_name=\"movie_id\", \n",
    "        value_name=\"rating\")\n",
    "df2 = df2.sort_values(by=['rating'],ascending=False)\n",
    "df2.reset_index(inplace=True)\n",
    "df2.drop('index',axis=1,inplace=True)\n",
    "df2"
   ]
  },
  {
   "cell_type": "markdown",
   "metadata": {},
   "source": [
    "# 2. EDA "
   ]
  },
  {
   "cell_type": "code",
   "execution_count": 7,
   "metadata": {},
   "outputs": [],
   "source": [
    "groupby_rating = df2.groupby('user_id')['rating']\n",
    "groupby_rating = pd.DataFrame(groupby_rating.count())"
   ]
  },
  {
   "cell_type": "code",
   "execution_count": 8,
   "metadata": {},
   "outputs": [
    {
     "data": {
      "text/plain": [
       "6"
      ]
     },
     "execution_count": 8,
     "metadata": {},
     "output_type": "execute_result"
    }
   ],
   "source": [
    "groupby_rating['rating'].max()"
   ]
  },
  {
   "cell_type": "code",
   "execution_count": 9,
   "metadata": {},
   "outputs": [
    {
     "data": {
      "text/plain": [
       "5.0    3659\n",
       "4.0     521\n",
       "1.0     363\n",
       "3.0     272\n",
       "2.0     185\n",
       "Name: rating, dtype: int64"
      ]
     },
     "execution_count": 9,
     "metadata": {},
     "output_type": "execute_result"
    }
   ],
   "source": [
    "df2.rating.value_counts()"
   ]
  },
  {
   "cell_type": "code",
   "execution_count": 10,
   "metadata": {},
   "outputs": [
    {
     "data": {
      "text/plain": [
       "5000"
      ]
     },
     "execution_count": 10,
     "metadata": {},
     "output_type": "execute_result"
    }
   ],
   "source": [
    "3659+521+363+272+185"
   ]
  },
  {
   "cell_type": "markdown",
   "metadata": {},
   "source": [
    "# 2.a] Shape of Data "
   ]
  },
  {
   "cell_type": "code",
   "execution_count": 11,
   "metadata": {},
   "outputs": [
    {
     "name": "stdout",
     "output_type": "stream",
     "text": [
      "Total Number of Rows: 998688\n",
      "Total Number of Columns: 3\n"
     ]
    }
   ],
   "source": [
    "print(\"Total Number of Rows:\", df2.shape[0])\n",
    "print('Total Number of Columns:',df2.shape[1])"
   ]
  },
  {
   "cell_type": "markdown",
   "metadata": {},
   "source": [
    "# 2.b] Data Type of each attribute "
   ]
  },
  {
   "cell_type": "code",
   "execution_count": 12,
   "metadata": {},
   "outputs": [
    {
     "name": "stdout",
     "output_type": "stream",
     "text": [
      "<class 'pandas.core.frame.DataFrame'>\n",
      "RangeIndex: 998688 entries, 0 to 998687\n",
      "Data columns (total 3 columns):\n",
      " #   Column    Non-Null Count   Dtype  \n",
      "---  ------    --------------   -----  \n",
      " 0   user_id   998688 non-null  object \n",
      " 1   movie_id  998688 non-null  object \n",
      " 2   rating    5000 non-null    float64\n",
      "dtypes: float64(1), object(2)\n",
      "memory usage: 22.9+ MB\n"
     ]
    }
   ],
   "source": [
    "df2.info()"
   ]
  },
  {
   "cell_type": "markdown",
   "metadata": {},
   "source": [
    "# 2.c] Check for missing values "
   ]
  },
  {
   "cell_type": "code",
   "execution_count": 13,
   "metadata": {},
   "outputs": [
    {
     "data": {
      "text/plain": [
       "user_id      0.000000\n",
       "movie_id     0.000000\n",
       "rating      99.499343\n",
       "dtype: float64"
      ]
     },
     "execution_count": 13,
     "metadata": {},
     "output_type": "execute_result"
    }
   ],
   "source": [
    "df2.isnull().sum()*100/df2.shape[0]"
   ]
  },
  {
   "cell_type": "markdown",
   "metadata": {},
   "source": [
    "**99% of the data contains null values in the rating column. These corresponding to the movies that are not watched by the user. We will relace null values for a particular movie columm by mean of that column**"
   ]
  },
  {
   "cell_type": "markdown",
   "metadata": {},
   "source": [
    "# 2.d] 5 point summary of numerical data "
   ]
  },
  {
   "cell_type": "code",
   "execution_count": 14,
   "metadata": {},
   "outputs": [
    {
     "data": {
      "text/plain": [
       "count    5000.000000\n",
       "mean        4.385600\n",
       "std         1.199667\n",
       "min         1.000000\n",
       "25%         4.000000\n",
       "50%         5.000000\n",
       "75%         5.000000\n",
       "max         5.000000\n",
       "Name: rating, dtype: float64"
      ]
     },
     "execution_count": 14,
     "metadata": {},
     "output_type": "execute_result"
    }
   ],
   "source": [
    "df2.rating.describe()"
   ]
  },
  {
   "cell_type": "markdown",
   "metadata": {},
   "source": [
    "**Observations**\n",
    "* min rating is 1 and max is 5 so we have ratings as intergers as 1,2,3,4,5\n",
    "* mean rating is 4.38565 and 25th percentile is also 4 So, most of the users have rated high for the given movies "
   ]
  },
  {
   "cell_type": "markdown",
   "metadata": {},
   "source": [
    "# 2.e] Unique users and products count "
   ]
  },
  {
   "cell_type": "code",
   "execution_count": 15,
   "metadata": {},
   "outputs": [
    {
     "name": "stdout",
     "output_type": "stream",
     "text": [
      "\u001b[1m\u001b[34mUnique number of users:\u001b[0m 4848\n",
      "\u001b[1m\u001b[34mUnique number of movies:\u001b[0m 206\n"
     ]
    }
   ],
   "source": [
    "print(colored('Unique number of users:',\"blue\",attrs=['bold']),df2.user_id.nunique())\n",
    "print(colored('Unique number of movies:',\"blue\",attrs=['bold']),df2.movie_id.nunique())"
   ]
  },
  {
   "cell_type": "markdown",
   "metadata": {},
   "source": [
    "# 3. Data Analysis and visualization(raw data-with missing values)"
   ]
  },
  {
   "cell_type": "code",
   "execution_count": 100,
   "metadata": {},
   "outputs": [
    {
     "data": {
      "image/png": "[encoded data removed]",
      "text/plain": [
       "<Figure size 720x504 with 1 Axes>"
      ]
     },
     "metadata": {
      "needs_background": "light"
     },
     "output_type": "display_data"
    }
   ],
   "source": [
    "distplot(1,1,10,7,data = df2,features = ['rating'],colors='blue',kde = False,bins=10)"
   ]
  },
  {
   "cell_type": "markdown",
   "metadata": {},
   "source": [
    "**Observations:**\n",
    "* Out of total 4848 users around 3500 users rated 5 for the movies\n",
    "* Count of ratings 1,2,3 and 4 are comparatively less, lesser than 500"
   ]
  },
  {
   "cell_type": "markdown",
   "metadata": {},
   "source": [
    "# 4. Highly rated movies "
   ]
  },
  {
   "cell_type": "code",
   "execution_count": 17,
   "metadata": {},
   "outputs": [],
   "source": [
    "groupby_movie =  df2.groupby('movie_id')['rating']\n",
    "groupby_movie = pd.DataFrame(groupby_movie.count().clip(upper=50))\n",
    "groupby_movie.rename(columns={'rating':'rating_count'},inplace=True)"
   ]
  },
  {
   "cell_type": "code",
   "execution_count": 99,
   "metadata": {},
   "outputs": [
    {
     "data": {
      "image/png": "[encoded data removed]",
      "text/plain": [
       "<Figure size 720x504 with 1 Axes>"
      ]
     },
     "metadata": {
      "needs_background": "light"
     },
     "output_type": "display_data"
    }
   ],
   "source": [
    "distplot(1,1,10,7,data = groupby_movie,features = ['rating_count'],colors='green',kde = False,bins=10)"
   ]
  },
  {
   "cell_type": "markdown",
   "metadata": {},
   "source": [
    "**Observations:**\n",
    "* We clipped the upper limit to 50. So any value above 50 will not be plotted.\n",
    "* Large number or movies which were rated once and very few rated less than 20 times."
   ]
  },
  {
   "cell_type": "markdown",
   "metadata": {},
   "source": [
    "# 5. Top rating count distribution grouped by users "
   ]
  },
  {
   "cell_type": "code",
   "execution_count": 19,
   "metadata": {},
   "outputs": [],
   "source": [
    "grouped_ratings_by_users = df2.groupby('user_id')['rating']\n",
    "grouped_ratings_by_users = pd.DataFrame(grouped_ratings_by_users.count())\n",
    "grouped_ratings_by_users.rename(columns={'rating':'rating_count'},inplace=True)"
   ]
  },
  {
   "cell_type": "code",
   "execution_count": 97,
   "metadata": {},
   "outputs": [
    {
     "data": {
      "text/plain": [
       "Text(0.5, 0, 'Rating_Count')"
      ]
     },
     "execution_count": 97,
     "metadata": {},
     "output_type": "execute_result"
    },
    {
     "data": {
      "image/png": "[encoded data removed]",
      "text/plain": [
       "<Figure size 720x504 with 1 Axes>"
      ]
     },
     "metadata": {
      "needs_background": "light"
     },
     "output_type": "display_data"
    }
   ],
   "source": [
    "distplot(1,1,10,7,data = grouped_ratings_by_users,features = ['rating_count'],colors='green',kde = False,bins=10)\n",
    "plt.xlabel('Rating_Count')"
   ]
  },
  {
   "cell_type": "markdown",
   "metadata": {},
   "source": [
    "**Observations:**\n",
    "* Out of total 4848 users alomost all the users rated only once and very fer rated twice or thrice\n",
    "* No user rated the movie more than three times"
   ]
  },
  {
   "cell_type": "markdown",
   "metadata": {},
   "source": [
    "# 6. Mean rating grouped by movies"
   ]
  },
  {
   "cell_type": "code",
   "execution_count": 21,
   "metadata": {},
   "outputs": [],
   "source": [
    "mean_rating_groupedby_movies = pd.DataFrame(df2.groupby('movie_id')['rating'].mean())\n",
    "mean_rating_groupedby_movies.rename(columns={'rating':'Mean_Rating'},inplace=True)"
   ]
  },
  {
   "cell_type": "code",
   "execution_count": 96,
   "metadata": {},
   "outputs": [
    {
     "data": {
      "image/png": "[encoded data removed]",
      "text/plain": [
       "<Figure size 720x504 with 1 Axes>"
      ]
     },
     "metadata": {
      "needs_background": "light"
     },
     "output_type": "display_data"
    }
   ],
   "source": [
    "distplot(1,1,10,7,data = mean_rating_groupedby_movies,features = ['Mean_Rating'],colors='green',kde = False,bins=10)"
   ]
  },
  {
   "cell_type": "markdown",
   "metadata": {},
   "source": [
    "**Observations:**\n",
    "* Most of the ratings are in the range of 4 to 5. Most of the movies has received a rating of 5.\n",
    "* This can solve the problem of missing values."
   ]
  },
  {
   "cell_type": "markdown",
   "metadata": {},
   "source": [
    "# 7.  Before imputing missing values we will explore more about the data"
   ]
  },
  {
   "cell_type": "code",
   "execution_count": 89,
   "metadata": {},
   "outputs": [
    {
     "data": {
      "text/html": [
       "<div>\n",
       "<style scoped>\n",
       "    .dataframe tbody tr th:only-of-type {\n",
       "        vertical-align: middle;\n",
       "    }\n",
       "\n",
       "    .dataframe tbody tr th {\n",
       "        vertical-align: top;\n",
       "    }\n",
       "\n",
       "    .dataframe thead th {\n",
       "        text-align: right;\n",
       "    }\n",
       "</style>\n",
       "<table border=\"1\" class=\"dataframe\">\n",
       "  <thead>\n",
       "    <tr style=\"text-align: right;\">\n",
       "      <th></th>\n",
       "      <th>user_id</th>\n",
       "      <th>Movie1</th>\n",
       "      <th>Movie2</th>\n",
       "      <th>Movie3</th>\n",
       "      <th>Movie4</th>\n",
       "      <th>Movie5</th>\n",
       "      <th>Movie6</th>\n",
       "      <th>Movie7</th>\n",
       "      <th>Movie8</th>\n",
       "      <th>Movie9</th>\n",
       "      <th>...</th>\n",
       "      <th>Movie197</th>\n",
       "      <th>Movie198</th>\n",
       "      <th>Movie199</th>\n",
       "      <th>Movie200</th>\n",
       "      <th>Movie201</th>\n",
       "      <th>Movie202</th>\n",
       "      <th>Movie203</th>\n",
       "      <th>Movie204</th>\n",
       "      <th>Movie205</th>\n",
       "      <th>Movie206</th>\n",
       "    </tr>\n",
       "  </thead>\n",
       "  <tbody>\n",
       "    <tr>\n",
       "      <th>0</th>\n",
       "      <td>A3R5OBKS7OM2IR</td>\n",
       "      <td>5.0</td>\n",
       "      <td>5.0</td>\n",
       "      <td>NaN</td>\n",
       "      <td>NaN</td>\n",
       "      <td>NaN</td>\n",
       "      <td>NaN</td>\n",
       "      <td>NaN</td>\n",
       "      <td>NaN</td>\n",
       "      <td>NaN</td>\n",
       "      <td>...</td>\n",
       "      <td>NaN</td>\n",
       "      <td>NaN</td>\n",
       "      <td>NaN</td>\n",
       "      <td>NaN</td>\n",
       "      <td>NaN</td>\n",
       "      <td>NaN</td>\n",
       "      <td>NaN</td>\n",
       "      <td>NaN</td>\n",
       "      <td>NaN</td>\n",
       "      <td>NaN</td>\n",
       "    </tr>\n",
       "    <tr>\n",
       "      <th>1</th>\n",
       "      <td>AH3QC2PC1VTGP</td>\n",
       "      <td>NaN</td>\n",
       "      <td>NaN</td>\n",
       "      <td>2.0</td>\n",
       "      <td>NaN</td>\n",
       "      <td>NaN</td>\n",
       "      <td>NaN</td>\n",
       "      <td>NaN</td>\n",
       "      <td>NaN</td>\n",
       "      <td>NaN</td>\n",
       "      <td>...</td>\n",
       "      <td>NaN</td>\n",
       "      <td>NaN</td>\n",
       "      <td>NaN</td>\n",
       "      <td>NaN</td>\n",
       "      <td>NaN</td>\n",
       "      <td>NaN</td>\n",
       "      <td>NaN</td>\n",
       "      <td>NaN</td>\n",
       "      <td>NaN</td>\n",
       "      <td>NaN</td>\n",
       "    </tr>\n",
       "    <tr>\n",
       "      <th>2</th>\n",
       "      <td>A3LKP6WPMP9UKX</td>\n",
       "      <td>NaN</td>\n",
       "      <td>NaN</td>\n",
       "      <td>NaN</td>\n",
       "      <td>5.0</td>\n",
       "      <td>NaN</td>\n",
       "      <td>NaN</td>\n",
       "      <td>NaN</td>\n",
       "      <td>NaN</td>\n",
       "      <td>NaN</td>\n",
       "      <td>...</td>\n",
       "      <td>NaN</td>\n",
       "      <td>NaN</td>\n",
       "      <td>NaN</td>\n",
       "      <td>NaN</td>\n",
       "      <td>NaN</td>\n",
       "      <td>NaN</td>\n",
       "      <td>NaN</td>\n",
       "      <td>NaN</td>\n",
       "      <td>NaN</td>\n",
       "      <td>NaN</td>\n",
       "    </tr>\n",
       "    <tr>\n",
       "      <th>3</th>\n",
       "      <td>AVIY68KEPQ5ZD</td>\n",
       "      <td>NaN</td>\n",
       "      <td>NaN</td>\n",
       "      <td>NaN</td>\n",
       "      <td>5.0</td>\n",
       "      <td>NaN</td>\n",
       "      <td>NaN</td>\n",
       "      <td>NaN</td>\n",
       "      <td>NaN</td>\n",
       "      <td>NaN</td>\n",
       "      <td>...</td>\n",
       "      <td>NaN</td>\n",
       "      <td>NaN</td>\n",
       "      <td>NaN</td>\n",
       "      <td>NaN</td>\n",
       "      <td>NaN</td>\n",
       "      <td>NaN</td>\n",
       "      <td>NaN</td>\n",
       "      <td>NaN</td>\n",
       "      <td>NaN</td>\n",
       "      <td>NaN</td>\n",
       "    </tr>\n",
       "    <tr>\n",
       "      <th>4</th>\n",
       "      <td>A1CV1WROP5KTTW</td>\n",
       "      <td>NaN</td>\n",
       "      <td>NaN</td>\n",
       "      <td>NaN</td>\n",
       "      <td>NaN</td>\n",
       "      <td>5.0</td>\n",
       "      <td>NaN</td>\n",
       "      <td>NaN</td>\n",
       "      <td>NaN</td>\n",
       "      <td>NaN</td>\n",
       "      <td>...</td>\n",
       "      <td>NaN</td>\n",
       "      <td>NaN</td>\n",
       "      <td>NaN</td>\n",
       "      <td>NaN</td>\n",
       "      <td>NaN</td>\n",
       "      <td>NaN</td>\n",
       "      <td>NaN</td>\n",
       "      <td>NaN</td>\n",
       "      <td>NaN</td>\n",
       "      <td>NaN</td>\n",
       "    </tr>\n",
       "  </tbody>\n",
       "</table>\n",
       "<p>5 rows × 207 columns</p>\n",
       "</div>"
      ],
      "text/plain": [
       "          user_id  Movie1  Movie2  Movie3  Movie4  Movie5  Movie6  Movie7  \\\n",
       "0  A3R5OBKS7OM2IR     5.0     5.0     NaN     NaN     NaN     NaN     NaN   \n",
       "1   AH3QC2PC1VTGP     NaN     NaN     2.0     NaN     NaN     NaN     NaN   \n",
       "2  A3LKP6WPMP9UKX     NaN     NaN     NaN     5.0     NaN     NaN     NaN   \n",
       "3   AVIY68KEPQ5ZD     NaN     NaN     NaN     5.0     NaN     NaN     NaN   \n",
       "4  A1CV1WROP5KTTW     NaN     NaN     NaN     NaN     5.0     NaN     NaN   \n",
       "\n",
       "   Movie8  Movie9  ...  Movie197  Movie198  Movie199  Movie200  Movie201  \\\n",
       "0     NaN     NaN  ...       NaN       NaN       NaN       NaN       NaN   \n",
       "1     NaN     NaN  ...       NaN       NaN       NaN       NaN       NaN   \n",
       "2     NaN     NaN  ...       NaN       NaN       NaN       NaN       NaN   \n",
       "3     NaN     NaN  ...       NaN       NaN       NaN       NaN       NaN   \n",
       "4     NaN     NaN  ...       NaN       NaN       NaN       NaN       NaN   \n",
       "\n",
       "   Movie202  Movie203  Movie204  Movie205  Movie206  \n",
       "0       NaN       NaN       NaN       NaN       NaN  \n",
       "1       NaN       NaN       NaN       NaN       NaN  \n",
       "2       NaN       NaN       NaN       NaN       NaN  \n",
       "3       NaN       NaN       NaN       NaN       NaN  \n",
       "4       NaN       NaN       NaN       NaN       NaN  \n",
       "\n",
       "[5 rows x 207 columns]"
      ]
     },
     "execution_count": 89,
     "metadata": {},
     "output_type": "execute_result"
    }
   ],
   "source": [
    "df_copy.head()"
   ]
  },
  {
   "cell_type": "code",
   "execution_count": 92,
   "metadata": {},
   "outputs": [
    {
     "name": "stdout",
     "output_type": "stream",
     "text": [
      "\u001b[1m\u001b[31m\n",
      "Top 10 movies with highest number of views/ratings are:\n",
      "\u001b[0m ['Movie127', 'Movie140', 'Movie16', 'Movie103', 'Movie29', 'Movie91', 'Movie92', 'Movie89', 'Movie158', 'Movie108']\n",
      "\u001b[1m\u001b[31m\n",
      "Top 5 movies with least audience are:\n",
      "\u001b[0m ['Movie1', 'Movie71', 'Movie145', 'Movie69', 'Movie68']\n"
     ]
    }
   ],
   "source": [
    "# Which movies have maximum views/ratings and which are the top 5 movies with the least audience.\n",
    "movie_numbers = df_copy.columns[1:]\n",
    "# Analysis of movies' popularity based on rating count\n",
    "\n",
    "rating_count ={'Movie':[],'ratingCount':[]}\n",
    "for i in movie_numbers:\n",
    "    rating_count['Movie'].append(i)\n",
    "    rating_count['ratingCount'].append(df_copy[i].count())\n",
    "rating_count = pd.DataFrame(rating_count)\n",
    "top_ten_highest_rating=rating_count.sort_values(by=['ratingCount'],ascending=False).head(10)\n",
    "least_audience = rating_count.sort_values(by=['ratingCount'],ascending = True)\n",
    "top_five_least_audience = least_audience.head(5)\n",
    "\n",
    "print(colored('\\nTop 10 movies with highest number of views/ratings are:\\n','red',attrs=['bold']),\n",
    "      list(top_ten_highest_rating['Movie']))\n",
    "\n",
    "print(colored('\\nTop 5 movies with least audience are:\\n','red',attrs=['bold']),\n",
    "      list(top_five_least_audience['Movie']))"
   ]
  },
  {
   "cell_type": "code",
   "execution_count": 93,
   "metadata": {},
   "outputs": [
    {
     "name": "stdout",
     "output_type": "stream",
     "text": [
      "\u001b[1m\u001b[31m\n",
      "Top 5 movies with highest average rating are:\n",
      "\u001b[0m ['Movie1', 'Movie66', 'Movie76', 'Movie75', 'Movie74']\n"
     ]
    }
   ],
   "source": [
    "# What is the average rating for each movie? Define the top 5 movies with the maximum ratings.\n",
    "avg_rating = {'Movie':[],'avgRating':[]}\n",
    "for i in movie_numbers:\n",
    "    avg_rating['Movie'].append(i)\n",
    "    avg_rating['avgRating'].append(round((df_copy[i].mean()),2))\n",
    "avg_rating = pd.DataFrame(avg_rating)\n",
    "top_five_highest_avg_rating = avg_rating.sort_values(by=['avgRating'],ascending=False).head()\n",
    "top_five_highest_avg_rating\n",
    "\n",
    "\n",
    "print(colored('\\nTop 5 movies with highest average rating are:\\n','red',attrs=['bold']),\n",
    "      list(top_five_highest_avg_rating['Movie']))"
   ]
  },
  {
   "cell_type": "markdown",
   "metadata": {},
   "source": [
    "# 8. Missing value imputation "
   ]
  },
  {
   "cell_type": "code",
   "execution_count": 23,
   "metadata": {},
   "outputs": [
    {
     "data": {
      "text/plain": [
       "user_id      0.000000\n",
       "movie_id     0.000000\n",
       "rating      99.499343\n",
       "dtype: float64"
      ]
     },
     "execution_count": 23,
     "metadata": {},
     "output_type": "execute_result"
    }
   ],
   "source": [
    "#Percentage of null values\n",
    "df2.isnull().sum()*100/df2.shape[0]"
   ]
  },
  {
   "cell_type": "code",
   "execution_count": 24,
   "metadata": {},
   "outputs": [
    {
     "data": {
      "text/html": [
       "<div>\n",
       "<style scoped>\n",
       "    .dataframe tbody tr th:only-of-type {\n",
       "        vertical-align: middle;\n",
       "    }\n",
       "\n",
       "    .dataframe tbody tr th {\n",
       "        vertical-align: top;\n",
       "    }\n",
       "\n",
       "    .dataframe thead th {\n",
       "        text-align: right;\n",
       "    }\n",
       "</style>\n",
       "<table border=\"1\" class=\"dataframe\">\n",
       "  <thead>\n",
       "    <tr style=\"text-align: right;\">\n",
       "      <th></th>\n",
       "      <th>user_id</th>\n",
       "      <th>Movie1</th>\n",
       "      <th>Movie2</th>\n",
       "      <th>Movie3</th>\n",
       "      <th>Movie4</th>\n",
       "      <th>Movie5</th>\n",
       "      <th>Movie6</th>\n",
       "      <th>Movie7</th>\n",
       "      <th>Movie8</th>\n",
       "      <th>Movie9</th>\n",
       "      <th>...</th>\n",
       "      <th>Movie197</th>\n",
       "      <th>Movie198</th>\n",
       "      <th>Movie199</th>\n",
       "      <th>Movie200</th>\n",
       "      <th>Movie201</th>\n",
       "      <th>Movie202</th>\n",
       "      <th>Movie203</th>\n",
       "      <th>Movie204</th>\n",
       "      <th>Movie205</th>\n",
       "      <th>Movie206</th>\n",
       "    </tr>\n",
       "  </thead>\n",
       "  <tbody>\n",
       "    <tr>\n",
       "      <th>0</th>\n",
       "      <td>A3R5OBKS7OM2IR</td>\n",
       "      <td>5.0</td>\n",
       "      <td>5.0</td>\n",
       "      <td>NaN</td>\n",
       "      <td>NaN</td>\n",
       "      <td>NaN</td>\n",
       "      <td>NaN</td>\n",
       "      <td>NaN</td>\n",
       "      <td>NaN</td>\n",
       "      <td>NaN</td>\n",
       "      <td>...</td>\n",
       "      <td>NaN</td>\n",
       "      <td>NaN</td>\n",
       "      <td>NaN</td>\n",
       "      <td>NaN</td>\n",
       "      <td>NaN</td>\n",
       "      <td>NaN</td>\n",
       "      <td>NaN</td>\n",
       "      <td>NaN</td>\n",
       "      <td>NaN</td>\n",
       "      <td>NaN</td>\n",
       "    </tr>\n",
       "    <tr>\n",
       "      <th>1</th>\n",
       "      <td>AH3QC2PC1VTGP</td>\n",
       "      <td>NaN</td>\n",
       "      <td>NaN</td>\n",
       "      <td>2.0</td>\n",
       "      <td>NaN</td>\n",
       "      <td>NaN</td>\n",
       "      <td>NaN</td>\n",
       "      <td>NaN</td>\n",
       "      <td>NaN</td>\n",
       "      <td>NaN</td>\n",
       "      <td>...</td>\n",
       "      <td>NaN</td>\n",
       "      <td>NaN</td>\n",
       "      <td>NaN</td>\n",
       "      <td>NaN</td>\n",
       "      <td>NaN</td>\n",
       "      <td>NaN</td>\n",
       "      <td>NaN</td>\n",
       "      <td>NaN</td>\n",
       "      <td>NaN</td>\n",
       "      <td>NaN</td>\n",
       "    </tr>\n",
       "    <tr>\n",
       "      <th>2</th>\n",
       "      <td>A3LKP6WPMP9UKX</td>\n",
       "      <td>NaN</td>\n",
       "      <td>NaN</td>\n",
       "      <td>NaN</td>\n",
       "      <td>5.0</td>\n",
       "      <td>NaN</td>\n",
       "      <td>NaN</td>\n",
       "      <td>NaN</td>\n",
       "      <td>NaN</td>\n",
       "      <td>NaN</td>\n",
       "      <td>...</td>\n",
       "      <td>NaN</td>\n",
       "      <td>NaN</td>\n",
       "      <td>NaN</td>\n",
       "      <td>NaN</td>\n",
       "      <td>NaN</td>\n",
       "      <td>NaN</td>\n",
       "      <td>NaN</td>\n",
       "      <td>NaN</td>\n",
       "      <td>NaN</td>\n",
       "      <td>NaN</td>\n",
       "    </tr>\n",
       "    <tr>\n",
       "      <th>3</th>\n",
       "      <td>AVIY68KEPQ5ZD</td>\n",
       "      <td>NaN</td>\n",
       "      <td>NaN</td>\n",
       "      <td>NaN</td>\n",
       "      <td>5.0</td>\n",
       "      <td>NaN</td>\n",
       "      <td>NaN</td>\n",
       "      <td>NaN</td>\n",
       "      <td>NaN</td>\n",
       "      <td>NaN</td>\n",
       "      <td>...</td>\n",
       "      <td>NaN</td>\n",
       "      <td>NaN</td>\n",
       "      <td>NaN</td>\n",
       "      <td>NaN</td>\n",
       "      <td>NaN</td>\n",
       "      <td>NaN</td>\n",
       "      <td>NaN</td>\n",
       "      <td>NaN</td>\n",
       "      <td>NaN</td>\n",
       "      <td>NaN</td>\n",
       "    </tr>\n",
       "    <tr>\n",
       "      <th>4</th>\n",
       "      <td>A1CV1WROP5KTTW</td>\n",
       "      <td>NaN</td>\n",
       "      <td>NaN</td>\n",
       "      <td>NaN</td>\n",
       "      <td>NaN</td>\n",
       "      <td>5.0</td>\n",
       "      <td>NaN</td>\n",
       "      <td>NaN</td>\n",
       "      <td>NaN</td>\n",
       "      <td>NaN</td>\n",
       "      <td>...</td>\n",
       "      <td>NaN</td>\n",
       "      <td>NaN</td>\n",
       "      <td>NaN</td>\n",
       "      <td>NaN</td>\n",
       "      <td>NaN</td>\n",
       "      <td>NaN</td>\n",
       "      <td>NaN</td>\n",
       "      <td>NaN</td>\n",
       "      <td>NaN</td>\n",
       "      <td>NaN</td>\n",
       "    </tr>\n",
       "    <tr>\n",
       "      <th>...</th>\n",
       "      <td>...</td>\n",
       "      <td>...</td>\n",
       "      <td>...</td>\n",
       "      <td>...</td>\n",
       "      <td>...</td>\n",
       "      <td>...</td>\n",
       "      <td>...</td>\n",
       "      <td>...</td>\n",
       "      <td>...</td>\n",
       "      <td>...</td>\n",
       "      <td>...</td>\n",
       "      <td>...</td>\n",
       "      <td>...</td>\n",
       "      <td>...</td>\n",
       "      <td>...</td>\n",
       "      <td>...</td>\n",
       "      <td>...</td>\n",
       "      <td>...</td>\n",
       "      <td>...</td>\n",
       "      <td>...</td>\n",
       "      <td>...</td>\n",
       "    </tr>\n",
       "    <tr>\n",
       "      <th>4843</th>\n",
       "      <td>A1IMQ9WMFYKWH5</td>\n",
       "      <td>NaN</td>\n",
       "      <td>NaN</td>\n",
       "      <td>NaN</td>\n",
       "      <td>NaN</td>\n",
       "      <td>NaN</td>\n",
       "      <td>NaN</td>\n",
       "      <td>NaN</td>\n",
       "      <td>NaN</td>\n",
       "      <td>NaN</td>\n",
       "      <td>...</td>\n",
       "      <td>NaN</td>\n",
       "      <td>NaN</td>\n",
       "      <td>NaN</td>\n",
       "      <td>NaN</td>\n",
       "      <td>NaN</td>\n",
       "      <td>NaN</td>\n",
       "      <td>NaN</td>\n",
       "      <td>NaN</td>\n",
       "      <td>NaN</td>\n",
       "      <td>5.0</td>\n",
       "    </tr>\n",
       "    <tr>\n",
       "      <th>4844</th>\n",
       "      <td>A1KLIKPUF5E88I</td>\n",
       "      <td>NaN</td>\n",
       "      <td>NaN</td>\n",
       "      <td>NaN</td>\n",
       "      <td>NaN</td>\n",
       "      <td>NaN</td>\n",
       "      <td>NaN</td>\n",
       "      <td>NaN</td>\n",
       "      <td>NaN</td>\n",
       "      <td>NaN</td>\n",
       "      <td>...</td>\n",
       "      <td>NaN</td>\n",
       "      <td>NaN</td>\n",
       "      <td>NaN</td>\n",
       "      <td>NaN</td>\n",
       "      <td>NaN</td>\n",
       "      <td>NaN</td>\n",
       "      <td>NaN</td>\n",
       "      <td>NaN</td>\n",
       "      <td>NaN</td>\n",
       "      <td>5.0</td>\n",
       "    </tr>\n",
       "    <tr>\n",
       "      <th>4845</th>\n",
       "      <td>A5HG6WFZLO10D</td>\n",
       "      <td>NaN</td>\n",
       "      <td>NaN</td>\n",
       "      <td>NaN</td>\n",
       "      <td>NaN</td>\n",
       "      <td>NaN</td>\n",
       "      <td>NaN</td>\n",
       "      <td>NaN</td>\n",
       "      <td>NaN</td>\n",
       "      <td>NaN</td>\n",
       "      <td>...</td>\n",
       "      <td>NaN</td>\n",
       "      <td>NaN</td>\n",
       "      <td>NaN</td>\n",
       "      <td>NaN</td>\n",
       "      <td>NaN</td>\n",
       "      <td>NaN</td>\n",
       "      <td>NaN</td>\n",
       "      <td>NaN</td>\n",
       "      <td>NaN</td>\n",
       "      <td>5.0</td>\n",
       "    </tr>\n",
       "    <tr>\n",
       "      <th>4846</th>\n",
       "      <td>A3UU690TWXCG1X</td>\n",
       "      <td>NaN</td>\n",
       "      <td>NaN</td>\n",
       "      <td>NaN</td>\n",
       "      <td>NaN</td>\n",
       "      <td>NaN</td>\n",
       "      <td>NaN</td>\n",
       "      <td>NaN</td>\n",
       "      <td>NaN</td>\n",
       "      <td>NaN</td>\n",
       "      <td>...</td>\n",
       "      <td>NaN</td>\n",
       "      <td>NaN</td>\n",
       "      <td>NaN</td>\n",
       "      <td>NaN</td>\n",
       "      <td>NaN</td>\n",
       "      <td>NaN</td>\n",
       "      <td>NaN</td>\n",
       "      <td>NaN</td>\n",
       "      <td>NaN</td>\n",
       "      <td>5.0</td>\n",
       "    </tr>\n",
       "    <tr>\n",
       "      <th>4847</th>\n",
       "      <td>AI4J762YI6S06</td>\n",
       "      <td>NaN</td>\n",
       "      <td>NaN</td>\n",
       "      <td>NaN</td>\n",
       "      <td>NaN</td>\n",
       "      <td>NaN</td>\n",
       "      <td>NaN</td>\n",
       "      <td>NaN</td>\n",
       "      <td>NaN</td>\n",
       "      <td>NaN</td>\n",
       "      <td>...</td>\n",
       "      <td>NaN</td>\n",
       "      <td>NaN</td>\n",
       "      <td>NaN</td>\n",
       "      <td>NaN</td>\n",
       "      <td>NaN</td>\n",
       "      <td>NaN</td>\n",
       "      <td>NaN</td>\n",
       "      <td>NaN</td>\n",
       "      <td>NaN</td>\n",
       "      <td>5.0</td>\n",
       "    </tr>\n",
       "  </tbody>\n",
       "</table>\n",
       "<p>4848 rows × 207 columns</p>\n",
       "</div>"
      ],
      "text/plain": [
       "             user_id  Movie1  Movie2  Movie3  Movie4  Movie5  Movie6  Movie7  \\\n",
       "0     A3R5OBKS7OM2IR     5.0     5.0     NaN     NaN     NaN     NaN     NaN   \n",
       "1      AH3QC2PC1VTGP     NaN     NaN     2.0     NaN     NaN     NaN     NaN   \n",
       "2     A3LKP6WPMP9UKX     NaN     NaN     NaN     5.0     NaN     NaN     NaN   \n",
       "3      AVIY68KEPQ5ZD     NaN     NaN     NaN     5.0     NaN     NaN     NaN   \n",
       "4     A1CV1WROP5KTTW     NaN     NaN     NaN     NaN     5.0     NaN     NaN   \n",
       "...              ...     ...     ...     ...     ...     ...     ...     ...   \n",
       "4843  A1IMQ9WMFYKWH5     NaN     NaN     NaN     NaN     NaN     NaN     NaN   \n",
       "4844  A1KLIKPUF5E88I     NaN     NaN     NaN     NaN     NaN     NaN     NaN   \n",
       "4845   A5HG6WFZLO10D     NaN     NaN     NaN     NaN     NaN     NaN     NaN   \n",
       "4846  A3UU690TWXCG1X     NaN     NaN     NaN     NaN     NaN     NaN     NaN   \n",
       "4847   AI4J762YI6S06     NaN     NaN     NaN     NaN     NaN     NaN     NaN   \n",
       "\n",
       "      Movie8  Movie9  ...  Movie197  Movie198  Movie199  Movie200  Movie201  \\\n",
       "0        NaN     NaN  ...       NaN       NaN       NaN       NaN       NaN   \n",
       "1        NaN     NaN  ...       NaN       NaN       NaN       NaN       NaN   \n",
       "2        NaN     NaN  ...       NaN       NaN       NaN       NaN       NaN   \n",
       "3        NaN     NaN  ...       NaN       NaN       NaN       NaN       NaN   \n",
       "4        NaN     NaN  ...       NaN       NaN       NaN       NaN       NaN   \n",
       "...      ...     ...  ...       ...       ...       ...       ...       ...   \n",
       "4843     NaN     NaN  ...       NaN       NaN       NaN       NaN       NaN   \n",
       "4844     NaN     NaN  ...       NaN       NaN       NaN       NaN       NaN   \n",
       "4845     NaN     NaN  ...       NaN       NaN       NaN       NaN       NaN   \n",
       "4846     NaN     NaN  ...       NaN       NaN       NaN       NaN       NaN   \n",
       "4847     NaN     NaN  ...       NaN       NaN       NaN       NaN       NaN   \n",
       "\n",
       "      Movie202  Movie203  Movie204  Movie205  Movie206  \n",
       "0          NaN       NaN       NaN       NaN       NaN  \n",
       "1          NaN       NaN       NaN       NaN       NaN  \n",
       "2          NaN       NaN       NaN       NaN       NaN  \n",
       "3          NaN       NaN       NaN       NaN       NaN  \n",
       "4          NaN       NaN       NaN       NaN       NaN  \n",
       "...        ...       ...       ...       ...       ...  \n",
       "4843       NaN       NaN       NaN       NaN       5.0  \n",
       "4844       NaN       NaN       NaN       NaN       5.0  \n",
       "4845       NaN       NaN       NaN       NaN       5.0  \n",
       "4846       NaN       NaN       NaN       NaN       5.0  \n",
       "4847       NaN       NaN       NaN       NaN       5.0  \n",
       "\n",
       "[4848 rows x 207 columns]"
      ]
     },
     "execution_count": 24,
     "metadata": {},
     "output_type": "execute_result"
    }
   ],
   "source": [
    "df_copy"
   ]
  },
  {
   "cell_type": "code",
   "execution_count": 25,
   "metadata": {
    "scrolled": false
   },
   "outputs": [
    {
     "data": {
      "text/plain": [
       "0       5.0\n",
       "1       2.0\n",
       "2       5.0\n",
       "3       5.0\n",
       "4       5.0\n",
       "       ... \n",
       "4843    5.0\n",
       "4844    5.0\n",
       "4845    5.0\n",
       "4846    5.0\n",
       "4847    5.0\n",
       "Length: 4848, dtype: float64"
      ]
     },
     "execution_count": 25,
     "metadata": {},
     "output_type": "execute_result"
    }
   ],
   "source": [
    "df_copy.mean(axis=1)"
   ]
  },
  {
   "cell_type": "markdown",
   "metadata": {},
   "source": [
    "# 9. Replace missing values by mean of all the ratings "
   ]
  },
  {
   "cell_type": "code",
   "execution_count": 26,
   "metadata": {},
   "outputs": [
    {
     "data": {
      "text/html": [
       "<div>\n",
       "<style scoped>\n",
       "    .dataframe tbody tr th:only-of-type {\n",
       "        vertical-align: middle;\n",
       "    }\n",
       "\n",
       "    .dataframe tbody tr th {\n",
       "        vertical-align: top;\n",
       "    }\n",
       "\n",
       "    .dataframe thead th {\n",
       "        text-align: right;\n",
       "    }\n",
       "</style>\n",
       "<table border=\"1\" class=\"dataframe\">\n",
       "  <thead>\n",
       "    <tr style=\"text-align: right;\">\n",
       "      <th></th>\n",
       "      <th>user_id</th>\n",
       "      <th>movie_id</th>\n",
       "      <th>rating</th>\n",
       "    </tr>\n",
       "  </thead>\n",
       "  <tbody>\n",
       "    <tr>\n",
       "      <th>0</th>\n",
       "      <td>A3R5OBKS7OM2IR</td>\n",
       "      <td>Movie1</td>\n",
       "      <td>5.0000</td>\n",
       "    </tr>\n",
       "    <tr>\n",
       "      <th>1</th>\n",
       "      <td>A1KI6L82M5RAHQ</td>\n",
       "      <td>Movie127</td>\n",
       "      <td>5.0000</td>\n",
       "    </tr>\n",
       "    <tr>\n",
       "      <th>2</th>\n",
       "      <td>A31FT2I8MLE4EC</td>\n",
       "      <td>Movie127</td>\n",
       "      <td>5.0000</td>\n",
       "    </tr>\n",
       "    <tr>\n",
       "      <th>3</th>\n",
       "      <td>A34JCDB3DPJ1I5</td>\n",
       "      <td>Movie127</td>\n",
       "      <td>5.0000</td>\n",
       "    </tr>\n",
       "    <tr>\n",
       "      <th>4</th>\n",
       "      <td>A34I0F2UBJ6YBP</td>\n",
       "      <td>Movie127</td>\n",
       "      <td>5.0000</td>\n",
       "    </tr>\n",
       "    <tr>\n",
       "      <th>...</th>\n",
       "      <td>...</td>\n",
       "      <td>...</td>\n",
       "      <td>...</td>\n",
       "    </tr>\n",
       "    <tr>\n",
       "      <th>998683</th>\n",
       "      <td>A2G3QM6ZLT66HO</td>\n",
       "      <td>Movie206</td>\n",
       "      <td>4.3856</td>\n",
       "    </tr>\n",
       "    <tr>\n",
       "      <th>998684</th>\n",
       "      <td>A2YSM4732ZHGZB</td>\n",
       "      <td>Movie206</td>\n",
       "      <td>4.3856</td>\n",
       "    </tr>\n",
       "    <tr>\n",
       "      <th>998685</th>\n",
       "      <td>A1PT4GB3A675ZW</td>\n",
       "      <td>Movie206</td>\n",
       "      <td>4.3856</td>\n",
       "    </tr>\n",
       "    <tr>\n",
       "      <th>998686</th>\n",
       "      <td>A23E3CUB03Z3YX</td>\n",
       "      <td>Movie206</td>\n",
       "      <td>4.3856</td>\n",
       "    </tr>\n",
       "    <tr>\n",
       "      <th>998687</th>\n",
       "      <td>A1DQA0HJSSAD5A</td>\n",
       "      <td>Movie206</td>\n",
       "      <td>4.3856</td>\n",
       "    </tr>\n",
       "  </tbody>\n",
       "</table>\n",
       "<p>998688 rows × 3 columns</p>\n",
       "</div>"
      ],
      "text/plain": [
       "               user_id  movie_id  rating\n",
       "0       A3R5OBKS7OM2IR    Movie1  5.0000\n",
       "1       A1KI6L82M5RAHQ  Movie127  5.0000\n",
       "2       A31FT2I8MLE4EC  Movie127  5.0000\n",
       "3       A34JCDB3DPJ1I5  Movie127  5.0000\n",
       "4       A34I0F2UBJ6YBP  Movie127  5.0000\n",
       "...                ...       ...     ...\n",
       "998683  A2G3QM6ZLT66HO  Movie206  4.3856\n",
       "998684  A2YSM4732ZHGZB  Movie206  4.3856\n",
       "998685  A1PT4GB3A675ZW  Movie206  4.3856\n",
       "998686  A23E3CUB03Z3YX  Movie206  4.3856\n",
       "998687  A1DQA0HJSSAD5A  Movie206  4.3856\n",
       "\n",
       "[998688 rows x 3 columns]"
      ]
     },
     "execution_count": 26,
     "metadata": {},
     "output_type": "execute_result"
    }
   ],
   "source": [
    "df_clean = df2.fillna(df2['rating'].mean())\n",
    "df_clean"
   ]
  },
  {
   "cell_type": "code",
   "execution_count": 27,
   "metadata": {},
   "outputs": [
    {
     "data": {
      "text/plain": [
       "user_id     0\n",
       "movie_id    0\n",
       "rating      0\n",
       "dtype: int64"
      ]
     },
     "execution_count": 27,
     "metadata": {},
     "output_type": "execute_result"
    }
   ],
   "source": [
    "df_clean.isnull().sum()"
   ]
  },
  {
   "cell_type": "code",
   "execution_count": 28,
   "metadata": {},
   "outputs": [],
   "source": [
    "mean_rating_groupedby_movies = pd.DataFrame(df_clean.groupby('movie_id')['rating'].mean())\n",
    "mean_rating_groupedby_movies.rename(columns={'rating':'Mean_Rating'},inplace=True)"
   ]
  },
  {
   "cell_type": "code",
   "execution_count": 98,
   "metadata": {},
   "outputs": [
    {
     "data": {
      "image/png": "[encoded data removed]",
      "text/plain": [
       "<Figure size 720x504 with 1 Axes>"
      ]
     },
     "metadata": {
      "needs_background": "light"
     },
     "output_type": "display_data"
    }
   ],
   "source": [
    "distplot(1,1,10,7,data = mean_rating_groupedby_movies,features = ['Mean_Rating'],colors='green',kde = False,bins=10)"
   ]
  },
  {
   "cell_type": "markdown",
   "metadata": {},
   "source": [
    "**Imputing missing values with mean of all the ratings has changed the distribution. The distribution after mean imputation is more spiked towards mean.**"
   ]
  },
  {
   "cell_type": "markdown",
   "metadata": {},
   "source": [
    "# 10. Replace null values by mean for each user(since we are building user based model)"
   ]
  },
  {
   "cell_type": "code",
   "execution_count": 30,
   "metadata": {},
   "outputs": [],
   "source": [
    "#replace null  by mean for each user\n",
    "df_transp = df_copy.T"
   ]
  },
  {
   "cell_type": "code",
   "execution_count": 31,
   "metadata": {},
   "outputs": [],
   "source": [
    "header=df_transp.iloc[0]"
   ]
  },
  {
   "cell_type": "code",
   "execution_count": 32,
   "metadata": {},
   "outputs": [],
   "source": [
    "df_transp=df_transp[1:]"
   ]
  },
  {
   "cell_type": "code",
   "execution_count": 33,
   "metadata": {},
   "outputs": [
    {
     "data": {
      "text/html": [
       "<div>\n",
       "<style scoped>\n",
       "    .dataframe tbody tr th:only-of-type {\n",
       "        vertical-align: middle;\n",
       "    }\n",
       "\n",
       "    .dataframe tbody tr th {\n",
       "        vertical-align: top;\n",
       "    }\n",
       "\n",
       "    .dataframe thead th {\n",
       "        text-align: right;\n",
       "    }\n",
       "</style>\n",
       "<table border=\"1\" class=\"dataframe\">\n",
       "  <thead>\n",
       "    <tr style=\"text-align: right;\">\n",
       "      <th>user_id</th>\n",
       "      <th>A3R5OBKS7OM2IR</th>\n",
       "      <th>AH3QC2PC1VTGP</th>\n",
       "      <th>A3LKP6WPMP9UKX</th>\n",
       "      <th>AVIY68KEPQ5ZD</th>\n",
       "      <th>A1CV1WROP5KTTW</th>\n",
       "      <th>AP57WZ2X4G0AA</th>\n",
       "      <th>A3NMBJ2LCRCATT</th>\n",
       "      <th>A5Y15SAOMX6XA</th>\n",
       "      <th>A3P671HJ32TCSF</th>\n",
       "      <th>A3VCKTRD24BG7K</th>\n",
       "      <th>...</th>\n",
       "      <th>A31KDG42LDKA68</th>\n",
       "      <th>A1ZW2GF8QLTG62</th>\n",
       "      <th>A15W9FRLBUXJNS</th>\n",
       "      <th>AQ4JA4RFC5QHI</th>\n",
       "      <th>A1HY5DOJCVB8MG</th>\n",
       "      <th>A1IMQ9WMFYKWH5</th>\n",
       "      <th>A1KLIKPUF5E88I</th>\n",
       "      <th>A5HG6WFZLO10D</th>\n",
       "      <th>A3UU690TWXCG1X</th>\n",
       "      <th>AI4J762YI6S06</th>\n",
       "    </tr>\n",
       "  </thead>\n",
       "  <tbody>\n",
       "    <tr>\n",
       "      <th>Movie1</th>\n",
       "      <td>5</td>\n",
       "      <td>NaN</td>\n",
       "      <td>NaN</td>\n",
       "      <td>NaN</td>\n",
       "      <td>NaN</td>\n",
       "      <td>NaN</td>\n",
       "      <td>NaN</td>\n",
       "      <td>NaN</td>\n",
       "      <td>NaN</td>\n",
       "      <td>NaN</td>\n",
       "      <td>...</td>\n",
       "      <td>NaN</td>\n",
       "      <td>NaN</td>\n",
       "      <td>NaN</td>\n",
       "      <td>NaN</td>\n",
       "      <td>NaN</td>\n",
       "      <td>NaN</td>\n",
       "      <td>NaN</td>\n",
       "      <td>NaN</td>\n",
       "      <td>NaN</td>\n",
       "      <td>NaN</td>\n",
       "    </tr>\n",
       "    <tr>\n",
       "      <th>Movie2</th>\n",
       "      <td>5</td>\n",
       "      <td>NaN</td>\n",
       "      <td>NaN</td>\n",
       "      <td>NaN</td>\n",
       "      <td>NaN</td>\n",
       "      <td>NaN</td>\n",
       "      <td>NaN</td>\n",
       "      <td>NaN</td>\n",
       "      <td>NaN</td>\n",
       "      <td>NaN</td>\n",
       "      <td>...</td>\n",
       "      <td>NaN</td>\n",
       "      <td>NaN</td>\n",
       "      <td>NaN</td>\n",
       "      <td>NaN</td>\n",
       "      <td>NaN</td>\n",
       "      <td>NaN</td>\n",
       "      <td>NaN</td>\n",
       "      <td>NaN</td>\n",
       "      <td>NaN</td>\n",
       "      <td>NaN</td>\n",
       "    </tr>\n",
       "    <tr>\n",
       "      <th>Movie3</th>\n",
       "      <td>NaN</td>\n",
       "      <td>2</td>\n",
       "      <td>NaN</td>\n",
       "      <td>NaN</td>\n",
       "      <td>NaN</td>\n",
       "      <td>NaN</td>\n",
       "      <td>NaN</td>\n",
       "      <td>NaN</td>\n",
       "      <td>NaN</td>\n",
       "      <td>NaN</td>\n",
       "      <td>...</td>\n",
       "      <td>NaN</td>\n",
       "      <td>NaN</td>\n",
       "      <td>NaN</td>\n",
       "      <td>NaN</td>\n",
       "      <td>NaN</td>\n",
       "      <td>NaN</td>\n",
       "      <td>NaN</td>\n",
       "      <td>NaN</td>\n",
       "      <td>NaN</td>\n",
       "      <td>NaN</td>\n",
       "    </tr>\n",
       "    <tr>\n",
       "      <th>Movie4</th>\n",
       "      <td>NaN</td>\n",
       "      <td>NaN</td>\n",
       "      <td>5</td>\n",
       "      <td>5</td>\n",
       "      <td>NaN</td>\n",
       "      <td>NaN</td>\n",
       "      <td>NaN</td>\n",
       "      <td>NaN</td>\n",
       "      <td>NaN</td>\n",
       "      <td>NaN</td>\n",
       "      <td>...</td>\n",
       "      <td>NaN</td>\n",
       "      <td>NaN</td>\n",
       "      <td>NaN</td>\n",
       "      <td>NaN</td>\n",
       "      <td>NaN</td>\n",
       "      <td>NaN</td>\n",
       "      <td>NaN</td>\n",
       "      <td>NaN</td>\n",
       "      <td>NaN</td>\n",
       "      <td>NaN</td>\n",
       "    </tr>\n",
       "    <tr>\n",
       "      <th>Movie5</th>\n",
       "      <td>NaN</td>\n",
       "      <td>NaN</td>\n",
       "      <td>NaN</td>\n",
       "      <td>NaN</td>\n",
       "      <td>5</td>\n",
       "      <td>2</td>\n",
       "      <td>5</td>\n",
       "      <td>2</td>\n",
       "      <td>5</td>\n",
       "      <td>5</td>\n",
       "      <td>...</td>\n",
       "      <td>NaN</td>\n",
       "      <td>NaN</td>\n",
       "      <td>NaN</td>\n",
       "      <td>NaN</td>\n",
       "      <td>NaN</td>\n",
       "      <td>NaN</td>\n",
       "      <td>NaN</td>\n",
       "      <td>NaN</td>\n",
       "      <td>NaN</td>\n",
       "      <td>NaN</td>\n",
       "    </tr>\n",
       "    <tr>\n",
       "      <th>...</th>\n",
       "      <td>...</td>\n",
       "      <td>...</td>\n",
       "      <td>...</td>\n",
       "      <td>...</td>\n",
       "      <td>...</td>\n",
       "      <td>...</td>\n",
       "      <td>...</td>\n",
       "      <td>...</td>\n",
       "      <td>...</td>\n",
       "      <td>...</td>\n",
       "      <td>...</td>\n",
       "      <td>...</td>\n",
       "      <td>...</td>\n",
       "      <td>...</td>\n",
       "      <td>...</td>\n",
       "      <td>...</td>\n",
       "      <td>...</td>\n",
       "      <td>...</td>\n",
       "      <td>...</td>\n",
       "      <td>...</td>\n",
       "      <td>...</td>\n",
       "    </tr>\n",
       "    <tr>\n",
       "      <th>Movie202</th>\n",
       "      <td>NaN</td>\n",
       "      <td>NaN</td>\n",
       "      <td>NaN</td>\n",
       "      <td>NaN</td>\n",
       "      <td>NaN</td>\n",
       "      <td>NaN</td>\n",
       "      <td>NaN</td>\n",
       "      <td>NaN</td>\n",
       "      <td>NaN</td>\n",
       "      <td>NaN</td>\n",
       "      <td>...</td>\n",
       "      <td>NaN</td>\n",
       "      <td>NaN</td>\n",
       "      <td>NaN</td>\n",
       "      <td>NaN</td>\n",
       "      <td>NaN</td>\n",
       "      <td>NaN</td>\n",
       "      <td>NaN</td>\n",
       "      <td>NaN</td>\n",
       "      <td>NaN</td>\n",
       "      <td>NaN</td>\n",
       "    </tr>\n",
       "    <tr>\n",
       "      <th>Movie203</th>\n",
       "      <td>NaN</td>\n",
       "      <td>NaN</td>\n",
       "      <td>NaN</td>\n",
       "      <td>NaN</td>\n",
       "      <td>NaN</td>\n",
       "      <td>NaN</td>\n",
       "      <td>NaN</td>\n",
       "      <td>NaN</td>\n",
       "      <td>NaN</td>\n",
       "      <td>NaN</td>\n",
       "      <td>...</td>\n",
       "      <td>NaN</td>\n",
       "      <td>NaN</td>\n",
       "      <td>NaN</td>\n",
       "      <td>NaN</td>\n",
       "      <td>NaN</td>\n",
       "      <td>NaN</td>\n",
       "      <td>NaN</td>\n",
       "      <td>NaN</td>\n",
       "      <td>NaN</td>\n",
       "      <td>NaN</td>\n",
       "    </tr>\n",
       "    <tr>\n",
       "      <th>Movie204</th>\n",
       "      <td>NaN</td>\n",
       "      <td>NaN</td>\n",
       "      <td>NaN</td>\n",
       "      <td>NaN</td>\n",
       "      <td>NaN</td>\n",
       "      <td>NaN</td>\n",
       "      <td>NaN</td>\n",
       "      <td>NaN</td>\n",
       "      <td>NaN</td>\n",
       "      <td>NaN</td>\n",
       "      <td>...</td>\n",
       "      <td>NaN</td>\n",
       "      <td>NaN</td>\n",
       "      <td>NaN</td>\n",
       "      <td>NaN</td>\n",
       "      <td>NaN</td>\n",
       "      <td>NaN</td>\n",
       "      <td>NaN</td>\n",
       "      <td>NaN</td>\n",
       "      <td>NaN</td>\n",
       "      <td>NaN</td>\n",
       "    </tr>\n",
       "    <tr>\n",
       "      <th>Movie205</th>\n",
       "      <td>NaN</td>\n",
       "      <td>NaN</td>\n",
       "      <td>NaN</td>\n",
       "      <td>NaN</td>\n",
       "      <td>NaN</td>\n",
       "      <td>NaN</td>\n",
       "      <td>NaN</td>\n",
       "      <td>NaN</td>\n",
       "      <td>NaN</td>\n",
       "      <td>NaN</td>\n",
       "      <td>...</td>\n",
       "      <td>NaN</td>\n",
       "      <td>NaN</td>\n",
       "      <td>NaN</td>\n",
       "      <td>NaN</td>\n",
       "      <td>NaN</td>\n",
       "      <td>NaN</td>\n",
       "      <td>NaN</td>\n",
       "      <td>NaN</td>\n",
       "      <td>NaN</td>\n",
       "      <td>NaN</td>\n",
       "    </tr>\n",
       "    <tr>\n",
       "      <th>Movie206</th>\n",
       "      <td>NaN</td>\n",
       "      <td>NaN</td>\n",
       "      <td>NaN</td>\n",
       "      <td>NaN</td>\n",
       "      <td>NaN</td>\n",
       "      <td>NaN</td>\n",
       "      <td>NaN</td>\n",
       "      <td>NaN</td>\n",
       "      <td>NaN</td>\n",
       "      <td>NaN</td>\n",
       "      <td>...</td>\n",
       "      <td>5</td>\n",
       "      <td>5</td>\n",
       "      <td>5</td>\n",
       "      <td>4</td>\n",
       "      <td>5</td>\n",
       "      <td>5</td>\n",
       "      <td>5</td>\n",
       "      <td>5</td>\n",
       "      <td>5</td>\n",
       "      <td>5</td>\n",
       "    </tr>\n",
       "  </tbody>\n",
       "</table>\n",
       "<p>206 rows × 4848 columns</p>\n",
       "</div>"
      ],
      "text/plain": [
       "user_id  A3R5OBKS7OM2IR AH3QC2PC1VTGP A3LKP6WPMP9UKX AVIY68KEPQ5ZD  \\\n",
       "Movie1                5           NaN            NaN           NaN   \n",
       "Movie2                5           NaN            NaN           NaN   \n",
       "Movie3              NaN             2            NaN           NaN   \n",
       "Movie4              NaN           NaN              5             5   \n",
       "Movie5              NaN           NaN            NaN           NaN   \n",
       "...                 ...           ...            ...           ...   \n",
       "Movie202            NaN           NaN            NaN           NaN   \n",
       "Movie203            NaN           NaN            NaN           NaN   \n",
       "Movie204            NaN           NaN            NaN           NaN   \n",
       "Movie205            NaN           NaN            NaN           NaN   \n",
       "Movie206            NaN           NaN            NaN           NaN   \n",
       "\n",
       "user_id  A1CV1WROP5KTTW AP57WZ2X4G0AA A3NMBJ2LCRCATT A5Y15SAOMX6XA  \\\n",
       "Movie1              NaN           NaN            NaN           NaN   \n",
       "Movie2              NaN           NaN            NaN           NaN   \n",
       "Movie3              NaN           NaN            NaN           NaN   \n",
       "Movie4              NaN           NaN            NaN           NaN   \n",
       "Movie5                5             2              5             2   \n",
       "...                 ...           ...            ...           ...   \n",
       "Movie202            NaN           NaN            NaN           NaN   \n",
       "Movie203            NaN           NaN            NaN           NaN   \n",
       "Movie204            NaN           NaN            NaN           NaN   \n",
       "Movie205            NaN           NaN            NaN           NaN   \n",
       "Movie206            NaN           NaN            NaN           NaN   \n",
       "\n",
       "user_id  A3P671HJ32TCSF A3VCKTRD24BG7K  ... A31KDG42LDKA68 A1ZW2GF8QLTG62  \\\n",
       "Movie1              NaN            NaN  ...            NaN            NaN   \n",
       "Movie2              NaN            NaN  ...            NaN            NaN   \n",
       "Movie3              NaN            NaN  ...            NaN            NaN   \n",
       "Movie4              NaN            NaN  ...            NaN            NaN   \n",
       "Movie5                5              5  ...            NaN            NaN   \n",
       "...                 ...            ...  ...            ...            ...   \n",
       "Movie202            NaN            NaN  ...            NaN            NaN   \n",
       "Movie203            NaN            NaN  ...            NaN            NaN   \n",
       "Movie204            NaN            NaN  ...            NaN            NaN   \n",
       "Movie205            NaN            NaN  ...            NaN            NaN   \n",
       "Movie206            NaN            NaN  ...              5              5   \n",
       "\n",
       "user_id  A15W9FRLBUXJNS AQ4JA4RFC5QHI A1HY5DOJCVB8MG A1IMQ9WMFYKWH5  \\\n",
       "Movie1              NaN           NaN            NaN            NaN   \n",
       "Movie2              NaN           NaN            NaN            NaN   \n",
       "Movie3              NaN           NaN            NaN            NaN   \n",
       "Movie4              NaN           NaN            NaN            NaN   \n",
       "Movie5              NaN           NaN            NaN            NaN   \n",
       "...                 ...           ...            ...            ...   \n",
       "Movie202            NaN           NaN            NaN            NaN   \n",
       "Movie203            NaN           NaN            NaN            NaN   \n",
       "Movie204            NaN           NaN            NaN            NaN   \n",
       "Movie205            NaN           NaN            NaN            NaN   \n",
       "Movie206              5             4              5              5   \n",
       "\n",
       "user_id  A1KLIKPUF5E88I A5HG6WFZLO10D A3UU690TWXCG1X AI4J762YI6S06  \n",
       "Movie1              NaN           NaN            NaN           NaN  \n",
       "Movie2              NaN           NaN            NaN           NaN  \n",
       "Movie3              NaN           NaN            NaN           NaN  \n",
       "Movie4              NaN           NaN            NaN           NaN  \n",
       "Movie5              NaN           NaN            NaN           NaN  \n",
       "...                 ...           ...            ...           ...  \n",
       "Movie202            NaN           NaN            NaN           NaN  \n",
       "Movie203            NaN           NaN            NaN           NaN  \n",
       "Movie204            NaN           NaN            NaN           NaN  \n",
       "Movie205            NaN           NaN            NaN           NaN  \n",
       "Movie206              5             5              5             5  \n",
       "\n",
       "[206 rows x 4848 columns]"
      ]
     },
     "execution_count": 33,
     "metadata": {},
     "output_type": "execute_result"
    }
   ],
   "source": [
    "df_transp.columns=header\n",
    "df_transp"
   ]
  },
  {
   "cell_type": "code",
   "execution_count": 34,
   "metadata": {},
   "outputs": [
    {
     "data": {
      "text/plain": [
       "Index(['A3R5OBKS7OM2IR', 'AH3QC2PC1VTGP', 'A3LKP6WPMP9UKX', 'AVIY68KEPQ5ZD',\n",
       "       'A1CV1WROP5KTTW', 'AP57WZ2X4G0AA', 'A3NMBJ2LCRCATT', 'A5Y15SAOMX6XA',\n",
       "       'A3P671HJ32TCSF', 'A3VCKTRD24BG7K',\n",
       "       ...\n",
       "       'A31KDG42LDKA68', 'A1ZW2GF8QLTG62', 'A15W9FRLBUXJNS', 'AQ4JA4RFC5QHI',\n",
       "       'A1HY5DOJCVB8MG', 'A1IMQ9WMFYKWH5', 'A1KLIKPUF5E88I', 'A5HG6WFZLO10D',\n",
       "       'A3UU690TWXCG1X', 'AI4J762YI6S06'],\n",
       "      dtype='object', name='user_id', length=4848)"
      ]
     },
     "execution_count": 34,
     "metadata": {},
     "output_type": "execute_result"
    }
   ],
   "source": [
    "df_transp_col = df_transp.columns\n",
    "df_transp_col"
   ]
  },
  {
   "cell_type": "code",
   "execution_count": 35,
   "metadata": {},
   "outputs": [],
   "source": [
    "# to avoid the problem of distorted distribution, we will impute missing values for a particular user by the mean rating \n",
    "#of that the users for all the movies\n",
    "for i in df_transp_col:\n",
    "    if df_transp[i].isnull().any()==True:\n",
    "        df_transp[i].fillna(round(df_transp[i].mean()),inplace=True)"
   ]
  },
  {
   "cell_type": "code",
   "execution_count": 36,
   "metadata": {},
   "outputs": [
    {
     "data": {
      "text/plain": [
       "4.103448275862069"
      ]
     },
     "execution_count": 36,
     "metadata": {},
     "output_type": "execute_result"
    }
   ],
   "source": [
    "df_copy['Movie5'].mean()"
   ]
  },
  {
   "cell_type": "code",
   "execution_count": 37,
   "metadata": {},
   "outputs": [
    {
     "data": {
      "text/plain": [
       "user_id\n",
       "A3R5OBKS7OM2IR    0\n",
       "AH3QC2PC1VTGP     0\n",
       "A3LKP6WPMP9UKX    0\n",
       "AVIY68KEPQ5ZD     0\n",
       "A1CV1WROP5KTTW    0\n",
       "                 ..\n",
       "A1IMQ9WMFYKWH5    0\n",
       "A1KLIKPUF5E88I    0\n",
       "A5HG6WFZLO10D     0\n",
       "A3UU690TWXCG1X    0\n",
       "AI4J762YI6S06     0\n",
       "Length: 4848, dtype: int64"
      ]
     },
     "execution_count": 37,
     "metadata": {},
     "output_type": "execute_result"
    }
   ],
   "source": [
    "df_transp.isnull().sum()"
   ]
  },
  {
   "cell_type": "markdown",
   "metadata": {},
   "source": [
    "**We imputed null values by mean for each user. Now we can go back to the format of original dataset by again taking transpose**"
   ]
  },
  {
   "cell_type": "code",
   "execution_count": 38,
   "metadata": {},
   "outputs": [],
   "source": [
    "df_final = df_transp.T\n",
    "df_final.reset_index(inplace=True)"
   ]
  },
  {
   "cell_type": "code",
   "execution_count": 39,
   "metadata": {},
   "outputs": [
    {
     "data": {
      "text/plain": [
       "Index(['user_id', 'Movie1', 'Movie2', 'Movie3', 'Movie4', 'Movie5', 'Movie6',\n",
       "       'Movie7', 'Movie8', 'Movie9',\n",
       "       ...\n",
       "       'Movie197', 'Movie198', 'Movie199', 'Movie200', 'Movie201', 'Movie202',\n",
       "       'Movie203', 'Movie204', 'Movie205', 'Movie206'],\n",
       "      dtype='object', length=207)"
      ]
     },
     "execution_count": 39,
     "metadata": {},
     "output_type": "execute_result"
    }
   ],
   "source": [
    "df_final.columns"
   ]
  },
  {
   "cell_type": "code",
   "execution_count": 41,
   "metadata": {},
   "outputs": [
    {
     "data": {
      "text/html": [
       "<div>\n",
       "<style scoped>\n",
       "    .dataframe tbody tr th:only-of-type {\n",
       "        vertical-align: middle;\n",
       "    }\n",
       "\n",
       "    .dataframe tbody tr th {\n",
       "        vertical-align: top;\n",
       "    }\n",
       "\n",
       "    .dataframe thead th {\n",
       "        text-align: right;\n",
       "    }\n",
       "</style>\n",
       "<table border=\"1\" class=\"dataframe\">\n",
       "  <thead>\n",
       "    <tr style=\"text-align: right;\">\n",
       "      <th></th>\n",
       "      <th>user_id</th>\n",
       "      <th>movie_id</th>\n",
       "      <th>rating</th>\n",
       "    </tr>\n",
       "  </thead>\n",
       "  <tbody>\n",
       "    <tr>\n",
       "      <th>0</th>\n",
       "      <td>A3R5OBKS7OM2IR</td>\n",
       "      <td>Movie1</td>\n",
       "      <td>5.0</td>\n",
       "    </tr>\n",
       "    <tr>\n",
       "      <th>1</th>\n",
       "      <td>A353JUUZ4XIYJ0</td>\n",
       "      <td>Movie127</td>\n",
       "      <td>5.0</td>\n",
       "    </tr>\n",
       "    <tr>\n",
       "      <th>2</th>\n",
       "      <td>A309WHV3B2V81P</td>\n",
       "      <td>Movie127</td>\n",
       "      <td>5.0</td>\n",
       "    </tr>\n",
       "    <tr>\n",
       "      <th>3</th>\n",
       "      <td>A1R2URG8OHNEDS</td>\n",
       "      <td>Movie127</td>\n",
       "      <td>5.0</td>\n",
       "    </tr>\n",
       "    <tr>\n",
       "      <th>4</th>\n",
       "      <td>A30N8GNYLI954</td>\n",
       "      <td>Movie127</td>\n",
       "      <td>5.0</td>\n",
       "    </tr>\n",
       "    <tr>\n",
       "      <th>...</th>\n",
       "      <td>...</td>\n",
       "      <td>...</td>\n",
       "      <td>...</td>\n",
       "    </tr>\n",
       "    <tr>\n",
       "      <th>998683</th>\n",
       "      <td>A3CHMPBVLG1H7W</td>\n",
       "      <td>Movie21</td>\n",
       "      <td>1.0</td>\n",
       "    </tr>\n",
       "    <tr>\n",
       "      <th>998684</th>\n",
       "      <td>A13483LW6X9SX8</td>\n",
       "      <td>Movie178</td>\n",
       "      <td>1.0</td>\n",
       "    </tr>\n",
       "    <tr>\n",
       "      <th>998685</th>\n",
       "      <td>A2ECR5R2LV0F0V</td>\n",
       "      <td>Movie178</td>\n",
       "      <td>1.0</td>\n",
       "    </tr>\n",
       "    <tr>\n",
       "      <th>998686</th>\n",
       "      <td>A1GCIOKPZKFGWN</td>\n",
       "      <td>Movie61</td>\n",
       "      <td>1.0</td>\n",
       "    </tr>\n",
       "    <tr>\n",
       "      <th>998687</th>\n",
       "      <td>A17TZW6606KFVJ</td>\n",
       "      <td>Movie57</td>\n",
       "      <td>1.0</td>\n",
       "    </tr>\n",
       "  </tbody>\n",
       "</table>\n",
       "<p>998688 rows × 3 columns</p>\n",
       "</div>"
      ],
      "text/plain": [
       "               user_id  movie_id  rating\n",
       "0       A3R5OBKS7OM2IR    Movie1     5.0\n",
       "1       A353JUUZ4XIYJ0  Movie127     5.0\n",
       "2       A309WHV3B2V81P  Movie127     5.0\n",
       "3       A1R2URG8OHNEDS  Movie127     5.0\n",
       "4        A30N8GNYLI954  Movie127     5.0\n",
       "...                ...       ...     ...\n",
       "998683  A3CHMPBVLG1H7W   Movie21     1.0\n",
       "998684  A13483LW6X9SX8  Movie178     1.0\n",
       "998685  A2ECR5R2LV0F0V  Movie178     1.0\n",
       "998686  A1GCIOKPZKFGWN   Movie61     1.0\n",
       "998687  A17TZW6606KFVJ   Movie57     1.0\n",
       "\n",
       "[998688 rows x 3 columns]"
      ]
     },
     "execution_count": 41,
     "metadata": {},
     "output_type": "execute_result"
    }
   ],
   "source": [
    "data=df_final.melt(id_vars=['user_id'], \n",
    "        var_name=\"movie_id\", \n",
    "        value_name=\"rating\")\n",
    "data = data.sort_values(by=['rating'],ascending=False)\n",
    "data.reset_index(inplace=True)\n",
    "data.drop('index',axis=1,inplace=True)\n",
    "data"
   ]
  },
  {
   "cell_type": "code",
   "execution_count": 42,
   "metadata": {},
   "outputs": [
    {
     "data": {
      "text/plain": [
       "5.0    725550\n",
       "4.0    107300\n",
       "1.0     73752\n",
       "3.0     54591\n",
       "2.0     37495\n",
       "Name: rating, dtype: int64"
      ]
     },
     "execution_count": 42,
     "metadata": {},
     "output_type": "execute_result"
    }
   ],
   "source": [
    "data.rating.value_counts()"
   ]
  },
  {
   "cell_type": "code",
   "execution_count": 50,
   "metadata": {},
   "outputs": [
    {
     "data": {
      "text/plain": [
       "movie_id\n",
       "Movie1      4.375206\n",
       "Movie10     4.375206\n",
       "Movie100    4.375206\n",
       "Movie101    4.375206\n",
       "Movie102    4.375206\n",
       "              ...   \n",
       "Movie95     4.375206\n",
       "Movie96     4.375206\n",
       "Movie97     4.375206\n",
       "Movie98     4.375206\n",
       "Movie99     4.375206\n",
       "Name: rating, Length: 206, dtype: float64"
      ]
     },
     "execution_count": 50,
     "metadata": {},
     "output_type": "execute_result"
    }
   ],
   "source": [
    "data['rating'].groupby(data['movie_id']).mean()"
   ]
  },
  {
   "cell_type": "code",
   "execution_count": 51,
   "metadata": {},
   "outputs": [
    {
     "data": {
      "text/plain": [
       "movie_id\n",
       "Movie1      5.000000\n",
       "Movie10     5.000000\n",
       "Movie100    4.000000\n",
       "Movie101    5.000000\n",
       "Movie102    4.000000\n",
       "              ...   \n",
       "Movie95     3.333333\n",
       "Movie96     5.000000\n",
       "Movie97     4.800000\n",
       "Movie98     5.000000\n",
       "Movie99     4.000000\n",
       "Name: rating, Length: 206, dtype: float64"
      ]
     },
     "execution_count": 51,
     "metadata": {},
     "output_type": "execute_result"
    }
   ],
   "source": [
    "df2['rating'].groupby(df2['movie_id']).mean()"
   ]
  },
  {
   "cell_type": "code",
   "execution_count": 52,
   "metadata": {},
   "outputs": [
    {
     "data": {
      "text/plain": [
       "5.0    725550\n",
       "4.0    107300\n",
       "1.0     73752\n",
       "3.0     54591\n",
       "2.0     37495\n",
       "Name: rating, dtype: int64"
      ]
     },
     "execution_count": 52,
     "metadata": {},
     "output_type": "execute_result"
    }
   ],
   "source": [
    "data.rating.value_counts()"
   ]
  },
  {
   "cell_type": "markdown",
   "metadata": {},
   "source": [
    "# 11.  Mean rating distribution by users"
   ]
  },
  {
   "cell_type": "code",
   "execution_count": 53,
   "metadata": {},
   "outputs": [],
   "source": [
    "mean_rating_groupedby_users = pd.DataFrame(data.groupby('user_id')['rating'].mean())\n",
    "mean_rating_groupedby_users.rename(columns={'rating':'Mean_Rating'},inplace=True)"
   ]
  },
  {
   "cell_type": "code",
   "execution_count": 54,
   "metadata": {},
   "outputs": [
    {
     "data": {
      "text/plain": [
       "<Figure size 576x576 with 0 Axes>"
      ]
     },
     "metadata": {},
     "output_type": "display_data"
    },
    {
     "data": {
      "image/png": "[encoded data removed]",
      "text/plain": [
       "<Figure size 720x504 with 1 Axes>"
      ]
     },
     "metadata": {
      "needs_background": "light"
     },
     "output_type": "display_data"
    }
   ],
   "source": [
    "plt.figure(figsize=(8,8))\n",
    "distplot(1,1,10,7,data = mean_rating_groupedby_users,features = ['Mean_Rating'],colors='orange',kde = False,bins=10)"
   ]
  },
  {
   "cell_type": "markdown",
   "metadata": {},
   "source": [
    "**Observations:**\n",
    "* This is the graph of mean ratings grouped by users\n",
    "* It shows that around 3.5K users have rated 5 stars to the movies. "
   ]
  },
  {
   "cell_type": "markdown",
   "metadata": {},
   "source": [
    "# 12.  Mean rating distribution by movies"
   ]
  },
  {
   "cell_type": "code",
   "execution_count": 55,
   "metadata": {},
   "outputs": [],
   "source": [
    "mean_rating_groupedby_movies = pd.DataFrame(data.groupby('movie_id')['rating'].mean())\n",
    "mean_rating_groupedby_movies.rename(columns={'rating':'Mean_Rating'},inplace=True)"
   ]
  },
  {
   "cell_type": "code",
   "execution_count": 56,
   "metadata": {},
   "outputs": [
    {
     "data": {
      "text/plain": [
       "<Figure size 576x576 with 0 Axes>"
      ]
     },
     "metadata": {},
     "output_type": "display_data"
    },
    {
     "data": {
      "image/png": "[encoded data removed]",
      "text/plain": [
       "<Figure size 720x504 with 1 Axes>"
      ]
     },
     "metadata": {
      "needs_background": "light"
     },
     "output_type": "display_data"
    }
   ],
   "source": [
    "plt.figure(figsize=(8,8))\n",
    "distplot(1,1,10,7,data = mean_rating_groupedby_movies,features = ['Mean_Rating'],colors='orange',kde = False,bins=30)"
   ]
  },
  {
   "cell_type": "markdown",
   "metadata": {},
   "source": [
    "**Observations:**\n",
    "* This is the mean rating grouped by movies \n",
    "* Many movies are given ratings around 4.375"
   ]
  },
  {
   "cell_type": "markdown",
   "metadata": {},
   "source": [
    "# 13.  Split the data into train and test set in the ratio of 70:30 "
   ]
  },
  {
   "cell_type": "code",
   "execution_count": 57,
   "metadata": {},
   "outputs": [],
   "source": [
    "seed = 2021"
   ]
  },
  {
   "cell_type": "code",
   "execution_count": 58,
   "metadata": {},
   "outputs": [],
   "source": [
    "train_data,test_data = train_test_split(data,test_size=0.3,random_state = seed)"
   ]
  },
  {
   "cell_type": "code",
   "execution_count": 59,
   "metadata": {},
   "outputs": [
    {
     "name": "stdout",
     "output_type": "stream",
     "text": [
      "Train data has 699081 rows and 3 columns\n",
      "Test data has 299607 rows and 3 columns\n"
     ]
    }
   ],
   "source": [
    "# Shape of train and test data\n",
    "print(\"Train data has\",train_data.shape[0],\"rows and\",train_data.shape[1],\"columns\")\n",
    "print(\"Test data has\",test_data.shape[0],\"rows and\",test_data.shape[1],\"columns\")"
   ]
  },
  {
   "cell_type": "code",
   "execution_count": 60,
   "metadata": {},
   "outputs": [
    {
     "data": {
      "text/html": [
       "<div>\n",
       "<style scoped>\n",
       "    .dataframe tbody tr th:only-of-type {\n",
       "        vertical-align: middle;\n",
       "    }\n",
       "\n",
       "    .dataframe tbody tr th {\n",
       "        vertical-align: top;\n",
       "    }\n",
       "\n",
       "    .dataframe thead th {\n",
       "        text-align: right;\n",
       "    }\n",
       "</style>\n",
       "<table border=\"1\" class=\"dataframe\">\n",
       "  <thead>\n",
       "    <tr style=\"text-align: right;\">\n",
       "      <th></th>\n",
       "      <th>user_id</th>\n",
       "      <th>movie_id</th>\n",
       "      <th>rating</th>\n",
       "    </tr>\n",
       "  </thead>\n",
       "  <tbody>\n",
       "    <tr>\n",
       "      <th>144377</th>\n",
       "      <td>A1KNQ4XBLAP3QY</td>\n",
       "      <td>Movie88</td>\n",
       "      <td>5.0</td>\n",
       "    </tr>\n",
       "    <tr>\n",
       "      <th>644828</th>\n",
       "      <td>A15HTLHQSQRDHJ</td>\n",
       "      <td>Movie78</td>\n",
       "      <td>5.0</td>\n",
       "    </tr>\n",
       "    <tr>\n",
       "      <th>74248</th>\n",
       "      <td>A245YDUYUOMRP7</td>\n",
       "      <td>Movie143</td>\n",
       "      <td>5.0</td>\n",
       "    </tr>\n",
       "    <tr>\n",
       "      <th>988119</th>\n",
       "      <td>A1GCIOKPZKFGWN</td>\n",
       "      <td>Movie52</td>\n",
       "      <td>1.0</td>\n",
       "    </tr>\n",
       "    <tr>\n",
       "      <th>710658</th>\n",
       "      <td>A2PAAM6ILGBAKM</td>\n",
       "      <td>Movie87</td>\n",
       "      <td>5.0</td>\n",
       "    </tr>\n",
       "  </tbody>\n",
       "</table>\n",
       "</div>"
      ],
      "text/plain": [
       "               user_id  movie_id  rating\n",
       "144377  A1KNQ4XBLAP3QY   Movie88     5.0\n",
       "644828  A15HTLHQSQRDHJ   Movie78     5.0\n",
       "74248   A245YDUYUOMRP7  Movie143     5.0\n",
       "988119  A1GCIOKPZKFGWN   Movie52     1.0\n",
       "710658  A2PAAM6ILGBAKM   Movie87     5.0"
      ]
     },
     "execution_count": 60,
     "metadata": {},
     "output_type": "execute_result"
    }
   ],
   "source": [
    "test_data.head()"
   ]
  },
  {
   "cell_type": "markdown",
   "metadata": {},
   "source": [
    "# 14. Recommender Systems "
   ]
  },
  {
   "cell_type": "markdown",
   "metadata": {},
   "source": [
    "## 1. Popularity based "
   ]
  },
  {
   "cell_type": "markdown",
   "metadata": {},
   "source": [
    "Popularity based recommender system will recommend the items(movies) that are currently trending based on other users' ratings. So, if a movie is rated highly by large number of users, then there is good amount of possibility that the targeted user will also like it. \n",
    "This is not a personalized recommender system and these movies can be recommended to any user. This can solve the problem of cold start."
   ]
  },
  {
   "cell_type": "code",
   "execution_count": 61,
   "metadata": {},
   "outputs": [],
   "source": [
    "class popularity_based_recom_model():\n",
    "    def __init__(self,train_data,test_data,user_id,movie_id):\n",
    "        self.train_data = train_data\n",
    "        self.test_data = test_data\n",
    "        self.user_id = user_id\n",
    "        self.movie_id = movie_id\n",
    "    \n",
    "    \n",
    "    def fit(self):\n",
    "        \n",
    "        #get count of users for each unique movie as a recommendation score\n",
    "        train_data_grouped = train_data.groupby(['movie_id']).agg({self.user_id:'count'}).reset_index()\n",
    "        train_data_grouped.rename(columns={'user_id':'score'},inplace=True)\n",
    "\n",
    "        #sort the movies based on recommendation score\n",
    "        train_data_sorted = train_data_grouped.sort_values(by='score',ascending=False)\n",
    "\n",
    "        #generate recommendation rank based on score\n",
    "        train_data_sorted['Rank'] = train_data_grouped['score'].rank(ascending=False,method = 'first')\n",
    "\n",
    "        #get top 10 recommendations\n",
    "        self.popularity_recom = train_data_sorted.head(20)\n",
    "    \n",
    "    #make recommendation based on popularity based\n",
    "    def recommend(self,user_id,n=5):\n",
    "        user_recommendations = self.popularity_recom\n",
    "        \n",
    "        # filter the movies that are not rated by the user\n",
    "        movies_already_rated_by_user = self.train_data[self.train_data[self.user_id]== user_id][self.movie_id]\n",
    "        \n",
    "        user_recommendations = user_recommendations[~user_recommendations[self.movie_id].isin(movies_already_rated_by_user)]\n",
    "        \n",
    "        #add user_id column for which recommendations are being generated\n",
    "        user_recommendations['user_id']=user_id\n",
    "        \n",
    "        #bring id column to first\n",
    "        cols = user_recommendations.columns.tolist()\n",
    "        cols = cols[-1:]+cols[:-1]\n",
    "        \n",
    "        user_recommendations = user_recommendations[cols].head(n)\n",
    "        \n",
    "        self.plot(user_recommendations)\n",
    "        \n",
    "        return user_recommendations\n",
    "    \n",
    "    #plot the rank and score for visual understnding\n",
    "    def plot(self,user_recommendations):\n",
    "        f,axes = plt.subplots(1,2,figsize=(20,8))\n",
    "        plt1 = sns.barplot(x = 'Rank',y = 'score', data = user_recommendations,hue = 'Rank',ax = axes[0])\n",
    "        plt1.set_xlabel('Rank',fontsize = 20)\n",
    "        plt1.set_ylabel('Score',fontsize = 20)\n",
    "        \n",
    "        plt2 = sns.pointplot(x = 'Rank',y = 'score', data = user_recommendations,hue = 'Rank',ax = axes[1])\n",
    "        plt2.set_xlabel('Rank',fontsize = 20)\n",
    "        plt2.set_ylabel('Score',fontsize = 20)\n",
    "        \n",
    "    #evaluate the model\n",
    "    def evaluate(self):\n",
    "        ratings = self.train_data.groupby(self.movie_id)['rating'].mean()\n",
    "        \n",
    "        pred_rating =[]\n",
    "        for data in self.test_data.values:\n",
    "            if data[1] in (ratings.index):\n",
    "                pred_rating.append(ratings.loc[data[1]])\n",
    "            else:\n",
    "                pred_rating.append(0)\n",
    "        \n",
    "        mse = mean_squared_error(self.test_data['rating'],pred_rating)\n",
    "        rmse = sqrt(mse)\n",
    "        return rmse"
   ]
  },
  {
   "cell_type": "markdown",
   "metadata": {},
   "source": [
    "## 1.a] Initialize"
   ]
  },
  {
   "cell_type": "code",
   "execution_count": 62,
   "metadata": {},
   "outputs": [],
   "source": [
    "pr = popularity_based_recom_model(train_data = train_data,test_data = test_data,user_id = 'user_id',movie_id = 'movie_id')"
   ]
  },
  {
   "cell_type": "markdown",
   "metadata": {},
   "source": [
    "## 1.b] Fit "
   ]
  },
  {
   "cell_type": "code",
   "execution_count": 63,
   "metadata": {},
   "outputs": [],
   "source": [
    "pr.fit()"
   ]
  },
  {
   "cell_type": "markdown",
   "metadata": {},
   "source": [
    "## 1.c] Recommend "
   ]
  },
  {
   "cell_type": "code",
   "execution_count": 64,
   "metadata": {},
   "outputs": [
    {
     "data": {
      "text/html": [
       "<div>\n",
       "<style scoped>\n",
       "    .dataframe tbody tr th:only-of-type {\n",
       "        vertical-align: middle;\n",
       "    }\n",
       "\n",
       "    .dataframe tbody tr th {\n",
       "        vertical-align: top;\n",
       "    }\n",
       "\n",
       "    .dataframe thead th {\n",
       "        text-align: right;\n",
       "    }\n",
       "</style>\n",
       "<table border=\"1\" class=\"dataframe\">\n",
       "  <thead>\n",
       "    <tr style=\"text-align: right;\">\n",
       "      <th></th>\n",
       "      <th>user_id</th>\n",
       "      <th>movie_id</th>\n",
       "      <th>rating</th>\n",
       "    </tr>\n",
       "  </thead>\n",
       "  <tbody>\n",
       "    <tr>\n",
       "      <th>336163</th>\n",
       "      <td>AKIYVW71DN9EB</td>\n",
       "      <td>Movie159</td>\n",
       "      <td>5.0</td>\n",
       "    </tr>\n",
       "    <tr>\n",
       "      <th>410312</th>\n",
       "      <td>A1E7RPUT3P1PY</td>\n",
       "      <td>Movie168</td>\n",
       "      <td>5.0</td>\n",
       "    </tr>\n",
       "    <tr>\n",
       "      <th>646047</th>\n",
       "      <td>A1D2WZ8E9LSOU5</td>\n",
       "      <td>Movie64</td>\n",
       "      <td>5.0</td>\n",
       "    </tr>\n",
       "    <tr>\n",
       "      <th>162332</th>\n",
       "      <td>A172UZKI33ZC1E</td>\n",
       "      <td>Movie113</td>\n",
       "      <td>5.0</td>\n",
       "    </tr>\n",
       "    <tr>\n",
       "      <th>353980</th>\n",
       "      <td>A2I2SZ5KFIW4OB</td>\n",
       "      <td>Movie148</td>\n",
       "      <td>5.0</td>\n",
       "    </tr>\n",
       "  </tbody>\n",
       "</table>\n",
       "</div>"
      ],
      "text/plain": [
       "               user_id  movie_id  rating\n",
       "336163   AKIYVW71DN9EB  Movie159     5.0\n",
       "410312   A1E7RPUT3P1PY  Movie168     5.0\n",
       "646047  A1D2WZ8E9LSOU5   Movie64     5.0\n",
       "162332  A172UZKI33ZC1E  Movie113     5.0\n",
       "353980  A2I2SZ5KFIW4OB  Movie148     5.0"
      ]
     },
     "execution_count": 64,
     "metadata": {},
     "output_type": "execute_result"
    }
   ],
   "source": [
    "test_data.tail()"
   ]
  },
  {
   "cell_type": "code",
   "execution_count": 65,
   "metadata": {},
   "outputs": [
    {
     "data": {
      "text/html": [
       "<div>\n",
       "<style scoped>\n",
       "    .dataframe tbody tr th:only-of-type {\n",
       "        vertical-align: middle;\n",
       "    }\n",
       "\n",
       "    .dataframe tbody tr th {\n",
       "        vertical-align: top;\n",
       "    }\n",
       "\n",
       "    .dataframe thead th {\n",
       "        text-align: right;\n",
       "    }\n",
       "</style>\n",
       "<table border=\"1\" class=\"dataframe\">\n",
       "  <thead>\n",
       "    <tr style=\"text-align: right;\">\n",
       "      <th></th>\n",
       "      <th>user_id</th>\n",
       "      <th>movie_id</th>\n",
       "      <th>rating</th>\n",
       "    </tr>\n",
       "  </thead>\n",
       "  <tbody>\n",
       "    <tr>\n",
       "      <th>49092</th>\n",
       "      <td>A3LZBOBV9H1HDV</td>\n",
       "      <td>Movie121</td>\n",
       "      <td>5.0</td>\n",
       "    </tr>\n",
       "    <tr>\n",
       "      <th>503316</th>\n",
       "      <td>A3RHU9SWJOLZ90</td>\n",
       "      <td>Movie43</td>\n",
       "      <td>5.0</td>\n",
       "    </tr>\n",
       "    <tr>\n",
       "      <th>104814</th>\n",
       "      <td>A2JXE9N85QJ86U</td>\n",
       "      <td>Movie137</td>\n",
       "      <td>5.0</td>\n",
       "    </tr>\n",
       "    <tr>\n",
       "      <th>231660</th>\n",
       "      <td>A1MRG0R8AJARYT</td>\n",
       "      <td>Movie188</td>\n",
       "      <td>5.0</td>\n",
       "    </tr>\n",
       "    <tr>\n",
       "      <th>62118</th>\n",
       "      <td>AKMMCNA8BDB5C</td>\n",
       "      <td>Movie140</td>\n",
       "      <td>5.0</td>\n",
       "    </tr>\n",
       "  </tbody>\n",
       "</table>\n",
       "</div>"
      ],
      "text/plain": [
       "               user_id  movie_id  rating\n",
       "49092   A3LZBOBV9H1HDV  Movie121     5.0\n",
       "503316  A3RHU9SWJOLZ90   Movie43     5.0\n",
       "104814  A2JXE9N85QJ86U  Movie137     5.0\n",
       "231660  A1MRG0R8AJARYT  Movie188     5.0\n",
       "62118    AKMMCNA8BDB5C  Movie140     5.0"
      ]
     },
     "execution_count": 65,
     "metadata": {},
     "output_type": "execute_result"
    }
   ],
   "source": [
    "train_data.head()"
   ]
  },
  {
   "cell_type": "markdown",
   "metadata": {},
   "source": [
    "## 1.d]  Try with three differernt users"
   ]
  },
  {
   "cell_type": "code",
   "execution_count": 66,
   "metadata": {},
   "outputs": [
    {
     "data": {
      "text/html": [
       "<div>\n",
       "<style scoped>\n",
       "    .dataframe tbody tr th:only-of-type {\n",
       "        vertical-align: middle;\n",
       "    }\n",
       "\n",
       "    .dataframe tbody tr th {\n",
       "        vertical-align: top;\n",
       "    }\n",
       "\n",
       "    .dataframe thead th {\n",
       "        text-align: right;\n",
       "    }\n",
       "</style>\n",
       "<table border=\"1\" class=\"dataframe\">\n",
       "  <thead>\n",
       "    <tr style=\"text-align: right;\">\n",
       "      <th></th>\n",
       "      <th>user_id</th>\n",
       "      <th>movie_id</th>\n",
       "      <th>score</th>\n",
       "      <th>Rank</th>\n",
       "    </tr>\n",
       "  </thead>\n",
       "  <tbody>\n",
       "    <tr>\n",
       "      <th>163</th>\n",
       "      <td>A3LZBOBV9H1HDV</td>\n",
       "      <td>Movie60</td>\n",
       "      <td>3452</td>\n",
       "      <td>4.0</td>\n",
       "    </tr>\n",
       "    <tr>\n",
       "      <th>60</th>\n",
       "      <td>A3LZBOBV9H1HDV</td>\n",
       "      <td>Movie153</td>\n",
       "      <td>3445</td>\n",
       "      <td>7.0</td>\n",
       "    </tr>\n",
       "    <tr>\n",
       "      <th>162</th>\n",
       "      <td>A3LZBOBV9H1HDV</td>\n",
       "      <td>Movie6</td>\n",
       "      <td>3438</td>\n",
       "      <td>12.0</td>\n",
       "    </tr>\n",
       "    <tr>\n",
       "      <th>84</th>\n",
       "      <td>A3LZBOBV9H1HDV</td>\n",
       "      <td>Movie175</td>\n",
       "      <td>3435</td>\n",
       "      <td>14.0</td>\n",
       "    </tr>\n",
       "    <tr>\n",
       "      <th>45</th>\n",
       "      <td>A3LZBOBV9H1HDV</td>\n",
       "      <td>Movie14</td>\n",
       "      <td>3434</td>\n",
       "      <td>15.0</td>\n",
       "    </tr>\n",
       "  </tbody>\n",
       "</table>\n",
       "</div>"
      ],
      "text/plain": [
       "            user_id  movie_id  score  Rank\n",
       "163  A3LZBOBV9H1HDV   Movie60   3452   4.0\n",
       "60   A3LZBOBV9H1HDV  Movie153   3445   7.0\n",
       "162  A3LZBOBV9H1HDV    Movie6   3438  12.0\n",
       "84   A3LZBOBV9H1HDV  Movie175   3435  14.0\n",
       "45   A3LZBOBV9H1HDV   Movie14   3434  15.0"
      ]
     },
     "execution_count": 66,
     "metadata": {},
     "output_type": "execute_result"
    },
    {
     "data": {
      "image/png": "[encoded data removed]",
      "text/plain": [
       "<Figure size 1440x576 with 2 Axes>"
      ]
     },
     "metadata": {
      "needs_background": "light"
     },
     "output_type": "display_data"
    }
   ],
   "source": [
    "user_0 = pr.recommend('A3LZBOBV9H1HDV')\n",
    "user_0"
   ]
  },
  {
   "cell_type": "code",
   "execution_count": 67,
   "metadata": {},
   "outputs": [
    {
     "data": {
      "text/html": [
       "<div>\n",
       "<style scoped>\n",
       "    .dataframe tbody tr th:only-of-type {\n",
       "        vertical-align: middle;\n",
       "    }\n",
       "\n",
       "    .dataframe tbody tr th {\n",
       "        vertical-align: top;\n",
       "    }\n",
       "\n",
       "    .dataframe thead th {\n",
       "        text-align: right;\n",
       "    }\n",
       "</style>\n",
       "<table border=\"1\" class=\"dataframe\">\n",
       "  <thead>\n",
       "    <tr style=\"text-align: right;\">\n",
       "      <th></th>\n",
       "      <th>user_id</th>\n",
       "      <th>movie_id</th>\n",
       "      <th>score</th>\n",
       "      <th>Rank</th>\n",
       "    </tr>\n",
       "  </thead>\n",
       "  <tbody>\n",
       "    <tr>\n",
       "      <th>143</th>\n",
       "      <td>A245YDUYUOMRP7</td>\n",
       "      <td>Movie42</td>\n",
       "      <td>3446</td>\n",
       "      <td>6.0</td>\n",
       "    </tr>\n",
       "    <tr>\n",
       "      <th>110</th>\n",
       "      <td>A245YDUYUOMRP7</td>\n",
       "      <td>Movie199</td>\n",
       "      <td>3438</td>\n",
       "      <td>11.0</td>\n",
       "    </tr>\n",
       "    <tr>\n",
       "      <th>162</th>\n",
       "      <td>A245YDUYUOMRP7</td>\n",
       "      <td>Movie6</td>\n",
       "      <td>3438</td>\n",
       "      <td>12.0</td>\n",
       "    </tr>\n",
       "    <tr>\n",
       "      <th>203</th>\n",
       "      <td>A245YDUYUOMRP7</td>\n",
       "      <td>Movie97</td>\n",
       "      <td>3433</td>\n",
       "      <td>17.0</td>\n",
       "    </tr>\n",
       "    <tr>\n",
       "      <th>30</th>\n",
       "      <td>A245YDUYUOMRP7</td>\n",
       "      <td>Movie126</td>\n",
       "      <td>3431</td>\n",
       "      <td>19.0</td>\n",
       "    </tr>\n",
       "  </tbody>\n",
       "</table>\n",
       "</div>"
      ],
      "text/plain": [
       "            user_id  movie_id  score  Rank\n",
       "143  A245YDUYUOMRP7   Movie42   3446   6.0\n",
       "110  A245YDUYUOMRP7  Movie199   3438  11.0\n",
       "162  A245YDUYUOMRP7    Movie6   3438  12.0\n",
       "203  A245YDUYUOMRP7   Movie97   3433  17.0\n",
       "30   A245YDUYUOMRP7  Movie126   3431  19.0"
      ]
     },
     "execution_count": 67,
     "metadata": {},
     "output_type": "execute_result"
    },
    {
     "data": {
      "image/png": "[encoded data removed]",
      "text/plain": [
       "<Figure size 1440x576 with 2 Axes>"
      ]
     },
     "metadata": {
      "needs_background": "light"
     },
     "output_type": "display_data"
    }
   ],
   "source": [
    "user_1 = pr.recommend('A245YDUYUOMRP7')\n",
    "user_1"
   ]
  },
  {
   "cell_type": "code",
   "execution_count": 68,
   "metadata": {},
   "outputs": [
    {
     "data": {
      "text/html": [
       "<div>\n",
       "<style scoped>\n",
       "    .dataframe tbody tr th:only-of-type {\n",
       "        vertical-align: middle;\n",
       "    }\n",
       "\n",
       "    .dataframe tbody tr th {\n",
       "        vertical-align: top;\n",
       "    }\n",
       "\n",
       "    .dataframe thead th {\n",
       "        text-align: right;\n",
       "    }\n",
       "</style>\n",
       "<table border=\"1\" class=\"dataframe\">\n",
       "  <thead>\n",
       "    <tr style=\"text-align: right;\">\n",
       "      <th></th>\n",
       "      <th>user_id</th>\n",
       "      <th>movie_id</th>\n",
       "      <th>score</th>\n",
       "      <th>Rank</th>\n",
       "    </tr>\n",
       "  </thead>\n",
       "  <tbody>\n",
       "    <tr>\n",
       "      <th>182</th>\n",
       "      <td>A1D2WZ8E9LSOU5</td>\n",
       "      <td>Movie78</td>\n",
       "      <td>3474</td>\n",
       "      <td>1.0</td>\n",
       "    </tr>\n",
       "    <tr>\n",
       "      <th>163</th>\n",
       "      <td>A1D2WZ8E9LSOU5</td>\n",
       "      <td>Movie60</td>\n",
       "      <td>3452</td>\n",
       "      <td>4.0</td>\n",
       "    </tr>\n",
       "    <tr>\n",
       "      <th>142</th>\n",
       "      <td>A1D2WZ8E9LSOU5</td>\n",
       "      <td>Movie41</td>\n",
       "      <td>3452</td>\n",
       "      <td>3.0</td>\n",
       "    </tr>\n",
       "    <tr>\n",
       "      <th>23</th>\n",
       "      <td>A1D2WZ8E9LSOU5</td>\n",
       "      <td>Movie12</td>\n",
       "      <td>3442</td>\n",
       "      <td>8.0</td>\n",
       "    </tr>\n",
       "    <tr>\n",
       "      <th>40</th>\n",
       "      <td>A1D2WZ8E9LSOU5</td>\n",
       "      <td>Movie135</td>\n",
       "      <td>3438</td>\n",
       "      <td>10.0</td>\n",
       "    </tr>\n",
       "  </tbody>\n",
       "</table>\n",
       "</div>"
      ],
      "text/plain": [
       "            user_id  movie_id  score  Rank\n",
       "182  A1D2WZ8E9LSOU5   Movie78   3474   1.0\n",
       "163  A1D2WZ8E9LSOU5   Movie60   3452   4.0\n",
       "142  A1D2WZ8E9LSOU5   Movie41   3452   3.0\n",
       "23   A1D2WZ8E9LSOU5   Movie12   3442   8.0\n",
       "40   A1D2WZ8E9LSOU5  Movie135   3438  10.0"
      ]
     },
     "execution_count": 68,
     "metadata": {},
     "output_type": "execute_result"
    },
    {
     "data": {
      "image/png": "[encoded data removed]",
      "text/plain": [
       "<Figure size 1440x576 with 2 Axes>"
      ]
     },
     "metadata": {
      "needs_background": "light"
     },
     "output_type": "display_data"
    }
   ],
   "source": [
    "user_2 = pr.recommend('A1D2WZ8E9LSOU5')\n",
    "user_2"
   ]
  },
  {
   "cell_type": "code",
   "execution_count": 69,
   "metadata": {},
   "outputs": [
    {
     "data": {
      "text/html": [
       "<div>\n",
       "<style scoped>\n",
       "    .dataframe tbody tr th:only-of-type {\n",
       "        vertical-align: middle;\n",
       "    }\n",
       "\n",
       "    .dataframe tbody tr th {\n",
       "        vertical-align: top;\n",
       "    }\n",
       "\n",
       "    .dataframe thead th {\n",
       "        text-align: right;\n",
       "    }\n",
       "</style>\n",
       "<table border=\"1\" class=\"dataframe\">\n",
       "  <thead>\n",
       "    <tr style=\"text-align: right;\">\n",
       "      <th></th>\n",
       "      <th>user_id</th>\n",
       "      <th>movie_id</th>\n",
       "      <th>score</th>\n",
       "      <th>Rank</th>\n",
       "    </tr>\n",
       "  </thead>\n",
       "  <tbody>\n",
       "    <tr>\n",
       "      <th>142</th>\n",
       "      <td>A2I2SZ5KFIW4OB</td>\n",
       "      <td>Movie41</td>\n",
       "      <td>3452</td>\n",
       "      <td>3.0</td>\n",
       "    </tr>\n",
       "    <tr>\n",
       "      <th>137</th>\n",
       "      <td>A2I2SZ5KFIW4OB</td>\n",
       "      <td>Movie37</td>\n",
       "      <td>3446</td>\n",
       "      <td>5.0</td>\n",
       "    </tr>\n",
       "    <tr>\n",
       "      <th>23</th>\n",
       "      <td>A2I2SZ5KFIW4OB</td>\n",
       "      <td>Movie12</td>\n",
       "      <td>3442</td>\n",
       "      <td>8.0</td>\n",
       "    </tr>\n",
       "    <tr>\n",
       "      <th>171</th>\n",
       "      <td>A2I2SZ5KFIW4OB</td>\n",
       "      <td>Movie68</td>\n",
       "      <td>3442</td>\n",
       "      <td>9.0</td>\n",
       "    </tr>\n",
       "    <tr>\n",
       "      <th>110</th>\n",
       "      <td>A2I2SZ5KFIW4OB</td>\n",
       "      <td>Movie199</td>\n",
       "      <td>3438</td>\n",
       "      <td>11.0</td>\n",
       "    </tr>\n",
       "  </tbody>\n",
       "</table>\n",
       "</div>"
      ],
      "text/plain": [
       "            user_id  movie_id  score  Rank\n",
       "142  A2I2SZ5KFIW4OB   Movie41   3452   3.0\n",
       "137  A2I2SZ5KFIW4OB   Movie37   3446   5.0\n",
       "23   A2I2SZ5KFIW4OB   Movie12   3442   8.0\n",
       "171  A2I2SZ5KFIW4OB   Movie68   3442   9.0\n",
       "110  A2I2SZ5KFIW4OB  Movie199   3438  11.0"
      ]
     },
     "execution_count": 69,
     "metadata": {},
     "output_type": "execute_result"
    },
    {
     "data": {
      "image/png": "[encoded data removed]",
      "text/plain": [
       "<Figure size 1440x576 with 2 Axes>"
      ]
     },
     "metadata": {
      "needs_background": "light"
     },
     "output_type": "display_data"
    }
   ],
   "source": [
    "user_3 = pr.recommend('A2I2SZ5KFIW4OB')\n",
    "user_3"
   ]
  },
  {
   "cell_type": "code",
   "execution_count": 70,
   "metadata": {},
   "outputs": [
    {
     "data": {
      "text/html": [
       "<table style=\"display:inline;margin-left:50px !important;margin-right: 40px !important\" border=\"1\" class=\"dataframe\">\n",
       "  <thead>\n",
       "    <tr style=\"text-align: right;\">\n",
       "      <th></th>\n",
       "      <th>user_id</th>\n",
       "      <th>movie_id</th>\n",
       "      <th>score</th>\n",
       "      <th>Rank</th>\n",
       "    </tr>\n",
       "  </thead>\n",
       "  <tbody>\n",
       "    <tr>\n",
       "      <th>143</th>\n",
       "      <td>A245YDUYUOMRP7</td>\n",
       "      <td>Movie42</td>\n",
       "      <td>3446</td>\n",
       "      <td>6.0</td>\n",
       "    </tr>\n",
       "    <tr>\n",
       "      <th>110</th>\n",
       "      <td>A245YDUYUOMRP7</td>\n",
       "      <td>Movie199</td>\n",
       "      <td>3438</td>\n",
       "      <td>11.0</td>\n",
       "    </tr>\n",
       "    <tr>\n",
       "      <th>162</th>\n",
       "      <td>A245YDUYUOMRP7</td>\n",
       "      <td>Movie6</td>\n",
       "      <td>3438</td>\n",
       "      <td>12.0</td>\n",
       "    </tr>\n",
       "    <tr>\n",
       "      <th>203</th>\n",
       "      <td>A245YDUYUOMRP7</td>\n",
       "      <td>Movie97</td>\n",
       "      <td>3433</td>\n",
       "      <td>17.0</td>\n",
       "    </tr>\n",
       "    <tr>\n",
       "      <th>30</th>\n",
       "      <td>A245YDUYUOMRP7</td>\n",
       "      <td>Movie126</td>\n",
       "      <td>3431</td>\n",
       "      <td>19.0</td>\n",
       "    </tr>\n",
       "  </tbody>\n",
       "</table style=\"display:inline;margin-left:50px !important;margin-right: 40px !important\"><table style=\"display:inline;margin-left:50px !important;margin-right: 40px !important\" border=\"1\" class=\"dataframe\">\n",
       "  <thead>\n",
       "    <tr style=\"text-align: right;\">\n",
       "      <th></th>\n",
       "      <th>user_id</th>\n",
       "      <th>movie_id</th>\n",
       "      <th>score</th>\n",
       "      <th>Rank</th>\n",
       "    </tr>\n",
       "  </thead>\n",
       "  <tbody>\n",
       "    <tr>\n",
       "      <th>182</th>\n",
       "      <td>A1D2WZ8E9LSOU5</td>\n",
       "      <td>Movie78</td>\n",
       "      <td>3474</td>\n",
       "      <td>1.0</td>\n",
       "    </tr>\n",
       "    <tr>\n",
       "      <th>163</th>\n",
       "      <td>A1D2WZ8E9LSOU5</td>\n",
       "      <td>Movie60</td>\n",
       "      <td>3452</td>\n",
       "      <td>4.0</td>\n",
       "    </tr>\n",
       "    <tr>\n",
       "      <th>142</th>\n",
       "      <td>A1D2WZ8E9LSOU5</td>\n",
       "      <td>Movie41</td>\n",
       "      <td>3452</td>\n",
       "      <td>3.0</td>\n",
       "    </tr>\n",
       "    <tr>\n",
       "      <th>23</th>\n",
       "      <td>A1D2WZ8E9LSOU5</td>\n",
       "      <td>Movie12</td>\n",
       "      <td>3442</td>\n",
       "      <td>8.0</td>\n",
       "    </tr>\n",
       "    <tr>\n",
       "      <th>40</th>\n",
       "      <td>A1D2WZ8E9LSOU5</td>\n",
       "      <td>Movie135</td>\n",
       "      <td>3438</td>\n",
       "      <td>10.0</td>\n",
       "    </tr>\n",
       "  </tbody>\n",
       "</table style=\"display:inline;margin-left:50px !important;margin-right: 40px !important\"><table style=\"display:inline;margin-left:50px !important;margin-right: 40px !important\" border=\"1\" class=\"dataframe\">\n",
       "  <thead>\n",
       "    <tr style=\"text-align: right;\">\n",
       "      <th></th>\n",
       "      <th>user_id</th>\n",
       "      <th>movie_id</th>\n",
       "      <th>score</th>\n",
       "      <th>Rank</th>\n",
       "    </tr>\n",
       "  </thead>\n",
       "  <tbody>\n",
       "    <tr>\n",
       "      <th>142</th>\n",
       "      <td>A2I2SZ5KFIW4OB</td>\n",
       "      <td>Movie41</td>\n",
       "      <td>3452</td>\n",
       "      <td>3.0</td>\n",
       "    </tr>\n",
       "    <tr>\n",
       "      <th>137</th>\n",
       "      <td>A2I2SZ5KFIW4OB</td>\n",
       "      <td>Movie37</td>\n",
       "      <td>3446</td>\n",
       "      <td>5.0</td>\n",
       "    </tr>\n",
       "    <tr>\n",
       "      <th>23</th>\n",
       "      <td>A2I2SZ5KFIW4OB</td>\n",
       "      <td>Movie12</td>\n",
       "      <td>3442</td>\n",
       "      <td>8.0</td>\n",
       "    </tr>\n",
       "    <tr>\n",
       "      <th>171</th>\n",
       "      <td>A2I2SZ5KFIW4OB</td>\n",
       "      <td>Movie68</td>\n",
       "      <td>3442</td>\n",
       "      <td>9.0</td>\n",
       "    </tr>\n",
       "    <tr>\n",
       "      <th>110</th>\n",
       "      <td>A2I2SZ5KFIW4OB</td>\n",
       "      <td>Movie199</td>\n",
       "      <td>3438</td>\n",
       "      <td>11.0</td>\n",
       "    </tr>\n",
       "  </tbody>\n",
       "</table style=\"display:inline;margin-left:50px !important;margin-right: 40px !important\">"
      ]
     },
     "metadata": {},
     "output_type": "display_data"
    }
   ],
   "source": [
    "display_side_by_side([user_1,user_2,user_3])"
   ]
  },
  {
   "cell_type": "code",
   "execution_count": 71,
   "metadata": {},
   "outputs": [
    {
     "data": {
      "text/plain": [
       "1.2043314629797393"
      ]
     },
     "execution_count": 71,
     "metadata": {},
     "output_type": "execute_result"
    }
   ],
   "source": [
    "pr.evaluate()"
   ]
  },
  {
   "cell_type": "markdown",
   "metadata": {},
   "source": [
    "**Observation:**\n",
    "* The ppopularity based moel is predicting the movies that are trending among all the users.\n",
    "* The movies that are trending but are also rated by the user previously are excluded from the new recommenations.\n",
    "* Taking into account above point, the recommendations are more or less same for all the users"
   ]
  },
  {
   "cell_type": "markdown",
   "metadata": {},
   "source": [
    "## 2. Collaborative filtering model using surprise library "
   ]
  },
  {
   "cell_type": "markdown",
   "metadata": {},
   "source": [
    "## 2.a]  Import the necessary libraries "
   ]
  },
  {
   "cell_type": "code",
   "execution_count": 72,
   "metadata": {},
   "outputs": [],
   "source": [
    "from surprise.dataset import Dataset\n",
    "from surprise.reader import Reader\n",
    "\n",
    "from surprise.model_selection import train_test_split\n",
    "\n",
    "from collections import defaultdict\n",
    "\n",
    "from surprise import SVD \n",
    "from surprise import KNNBasic\n",
    "from surprise import KNNWithMeans\n",
    "from surprise import accuracy\n",
    "from surprise.model_selection import cross_validate\n",
    "from surprise.model_selection import RandomizedSearchCV\n",
    "reader = Reader()\n",
    "surprise_dataset = Dataset.load_from_df(data,reader)"
   ]
  },
  {
   "cell_type": "markdown",
   "metadata": {},
   "source": [
    "## 2.b]  Split dataset into train and test in the ratio of 70 and 30"
   ]
  },
  {
   "cell_type": "code",
   "execution_count": 73,
   "metadata": {},
   "outputs": [],
   "source": [
    "trainset,testset = train_test_split(surprise_dataset,test_size = 0.3, random_state = seed)"
   ]
  },
  {
   "cell_type": "code",
   "execution_count": 74,
   "metadata": {},
   "outputs": [],
   "source": [
    "def get_top_n(predictions , n = 10):\n",
    "    #Map predictions to user\n",
    "    top_n = defaultdict(list)\n",
    "    for uid,iid,true_r,est,_ in predictions:\n",
    "        top_n[uid].append((iid,est))\n",
    "        \n",
    "    # sort the ratings\n",
    "    for uid, user_ratings in top_n.items():\n",
    "        user_ratings.sort(key = lambda x:x[1],reverse=True)\n",
    "        top_n[uid] = user_ratings[:n]\n",
    "    \n",
    "    return top_n"
   ]
  },
  {
   "cell_type": "code",
   "execution_count": 75,
   "metadata": {},
   "outputs": [],
   "source": [
    "class collaborative_filtering():\n",
    "    def __init__(self,model,trainset,testset,data):\n",
    "        self.trainset = trainset\n",
    "        self.testset = testset\n",
    "        self.model = model\n",
    "        self.data = data\n",
    "        self.pred_test = None\n",
    "        self.recommendations = None\n",
    "        self.top_n = None\n",
    "        self.recommenddf = None\n",
    "        \n",
    "    def fit_and_predict(self):\n",
    "        printmd(\"**Fitting the train data...**\",color = 'brown')\n",
    "        self.model.fit(self.trainset)\n",
    "        \n",
    "        printmd(\"**Predicting the test data...**\",color = 'brown')\n",
    "        self.pred_test = self.model.test(self.testset)\n",
    "        \n",
    "        rmse = round(accuracy.rmse(self.pred_test),3)\n",
    "        printmd(\"**RMSE for the predictions made on test data is\" + str(rmse) + '**',color = 'brown')\n",
    "        \n",
    "        self.top_n = get_top_n(self.pred_test)\n",
    "        self.recommenddf = pd.DataFrame(columns = ['User_id','Movie_id','Rating'])\n",
    "        \n",
    "        for items in self.top_n:\n",
    "            subdf = pd.DataFrame(self.top_n[items],columns = ['Movie_id','Rating'])\n",
    "            subdf['User_id'] = items\n",
    "            \n",
    "            cols = subdf.columns.tolist()\n",
    "            cols = cols [-1:] + cols [ :-1]\n",
    "            subdf = subdf [cols]\n",
    "            self.recommenddf = pd.concat([self.recommenddf,subdf],axis =0)\n",
    "        return rmse\n",
    "\n",
    "    def cross_validate(self):\n",
    "        printmd(\"**Cross validating the data...**\",color = 'brown')\n",
    "        cv_result = cross_validate(self.model,self.data,n_jobs = -1)\n",
    "        cv_result = round(cv_result['test_rmse'].mean(),3)\n",
    "        \n",
    "        printmd(\"**Mean CV RMSE is\"+str(cv_result)+'**',color = 'brown')\n",
    "        return cv_result\n",
    "    \n",
    "    def recommend(self,user_id,n=5):\n",
    "        printmd(\"**Recommending top\"+str(n)+\"mocies for a user_id\"+str(user_id)+'...''**',color='brown')\n",
    "        \n",
    "        df = self.recommenddf[self.recommenddf['User_id']==user_id].head(n)\n",
    "        display(df)\n",
    "        return df"
   ]
  },
  {
   "cell_type": "code",
   "execution_count": 76,
   "metadata": {},
   "outputs": [],
   "source": [
    "def find_best_model(model,parameters,data):\n",
    "    clf = RandomizedSearchCV(model,parameters,n_jobs = -1,measures = ['rmse'])\n",
    "    clf.fit(data)\n",
    "    print(clf.best_score)\n",
    "    print(clf.best_params)\n",
    "    print(clf.best_estimator)\n",
    "    return clf"
   ]
  },
  {
   "cell_type": "markdown",
   "metadata": {},
   "source": [
    "**User-based collaborative filtering:**\n",
    "\n",
    "To find the rating that a user can give to a particular movie, the approach used in user-based collaborative filtering is\n",
    "1. Find users similiar to the targeted user\n",
    "2. Find the rating that a targeted user will give based on the ratings of the similar users"
   ]
  },
  {
   "cell_type": "markdown",
   "metadata": {},
   "source": [
    "## 2.c] KNNWithMeans Model "
   ]
  },
  {
   "cell_type": "markdown",
   "metadata": {},
   "source": [
    "### 2.c.1] Find optimal model based on RandomizedSearchCV**"
   ]
  },
  {
   "cell_type": "code",
   "execution_count": 82,
   "metadata": {},
   "outputs": [
    {
     "name": "stdout",
     "output_type": "stream",
     "text": [
      "{'rmse': 0.008318969895771234}\n",
      "{'rmse': {'k': 33, 'sim_options': {'name': 'cosine', 'support': 8, 'user_based': True}}}\n",
      "{'rmse': <surprise.prediction_algorithms.knns.KNNWithMeans object at 0x0000024D30128C88>}\n"
     ]
    }
   ],
   "source": [
    "sim_options = {\n",
    "    'name':['msd','cosine','pearson','pearson_baseline'],\n",
    "    'support':[8,9,10],\n",
    "    'user_based':[True]\n",
    "}\n",
    "params = {'k':range(32,40,1), 'sim_options':sim_options}\n",
    "clf = find_best_model(KNNWithMeans,params,surprise_dataset)"
   ]
  },
  {
   "cell_type": "markdown",
   "metadata": {},
   "source": [
    "### 2.c.2] Initialize"
   ]
  },
  {
   "cell_type": "code",
   "execution_count": 83,
   "metadata": {},
   "outputs": [],
   "source": [
    "knnwithmeans = clf.best_estimator['rmse']\n",
    "col_fil_knnwithmeans = collaborative_filtering(knnwithmeans,trainset,testset,surprise_dataset)"
   ]
  },
  {
   "cell_type": "markdown",
   "metadata": {},
   "source": [
    "### 2.c.3]  Fit and Predict"
   ]
  },
  {
   "cell_type": "code",
   "execution_count": 84,
   "metadata": {},
   "outputs": [
    {
     "data": {
      "text/markdown": [
       "<span style='color:brown'>**Fitting the train data...**</span>"
      ],
      "text/plain": [
       "<IPython.core.display.Markdown object>"
      ]
     },
     "metadata": {},
     "output_type": "display_data"
    },
    {
     "name": "stdout",
     "output_type": "stream",
     "text": [
      "Computing the cosine similarity matrix...\n",
      "Done computing similarity matrix.\n"
     ]
    },
    {
     "data": {
      "text/markdown": [
       "<span style='color:brown'>**Predicting the test data...**</span>"
      ],
      "text/plain": [
       "<IPython.core.display.Markdown object>"
      ]
     },
     "metadata": {},
     "output_type": "display_data"
    },
    {
     "name": "stdout",
     "output_type": "stream",
     "text": [
      "RMSE: 0.0099\n"
     ]
    },
    {
     "data": {
      "text/markdown": [
       "<span style='color:brown'>**RMSE for the predictions made on test data is0.01**</span>"
      ],
      "text/plain": [
       "<IPython.core.display.Markdown object>"
      ]
     },
     "metadata": {},
     "output_type": "display_data"
    }
   ],
   "source": [
    "knnwithmean_rmse = col_fil_knnwithmeans.fit_and_predict()"
   ]
  },
  {
   "cell_type": "markdown",
   "metadata": {},
   "source": [
    "### 2.c.4] Cross Validate"
   ]
  },
  {
   "cell_type": "code",
   "execution_count": 85,
   "metadata": {},
   "outputs": [
    {
     "data": {
      "text/markdown": [
       "<span style='color:brown'>**Cross validating the data...**</span>"
      ],
      "text/plain": [
       "<IPython.core.display.Markdown object>"
      ]
     },
     "metadata": {},
     "output_type": "display_data"
    },
    {
     "data": {
      "text/markdown": [
       "<span style='color:brown'>**Mean CV RMSE is0.008**</span>"
      ],
      "text/plain": [
       "<IPython.core.display.Markdown object>"
      ]
     },
     "metadata": {},
     "output_type": "display_data"
    }
   ],
   "source": [
    "knnwithmeans_cv_rmse = col_fil_knnwithmeans.cross_validate()"
   ]
  },
  {
   "cell_type": "markdown",
   "metadata": {},
   "source": [
    "### 2.c.5]  Recommend"
   ]
  },
  {
   "cell_type": "code",
   "execution_count": 88,
   "metadata": {},
   "outputs": [
    {
     "data": {
      "text/markdown": [
       "<span style='color:brown'>**Recommending top5mocies for a user_idA3LZBOBV9H1HDV...**</span>"
      ],
      "text/plain": [
       "<IPython.core.display.Markdown object>"
      ]
     },
     "metadata": {},
     "output_type": "display_data"
    },
    {
     "data": {
      "text/html": [
       "<div>\n",
       "<style scoped>\n",
       "    .dataframe tbody tr th:only-of-type {\n",
       "        vertical-align: middle;\n",
       "    }\n",
       "\n",
       "    .dataframe tbody tr th {\n",
       "        vertical-align: top;\n",
       "    }\n",
       "\n",
       "    .dataframe thead th {\n",
       "        text-align: right;\n",
       "    }\n",
       "</style>\n",
       "<table border=\"1\" class=\"dataframe\">\n",
       "  <thead>\n",
       "    <tr style=\"text-align: right;\">\n",
       "      <th></th>\n",
       "      <th>User_id</th>\n",
       "      <th>Movie_id</th>\n",
       "      <th>Rating</th>\n",
       "    </tr>\n",
       "  </thead>\n",
       "  <tbody>\n",
       "    <tr>\n",
       "      <th>0</th>\n",
       "      <td>A3LZBOBV9H1HDV</td>\n",
       "      <td>Movie192</td>\n",
       "      <td>5</td>\n",
       "    </tr>\n",
       "    <tr>\n",
       "      <th>1</th>\n",
       "      <td>A3LZBOBV9H1HDV</td>\n",
       "      <td>Movie104</td>\n",
       "      <td>5</td>\n",
       "    </tr>\n",
       "    <tr>\n",
       "      <th>2</th>\n",
       "      <td>A3LZBOBV9H1HDV</td>\n",
       "      <td>Movie59</td>\n",
       "      <td>5</td>\n",
       "    </tr>\n",
       "    <tr>\n",
       "      <th>3</th>\n",
       "      <td>A3LZBOBV9H1HDV</td>\n",
       "      <td>Movie169</td>\n",
       "      <td>5</td>\n",
       "    </tr>\n",
       "    <tr>\n",
       "      <th>4</th>\n",
       "      <td>A3LZBOBV9H1HDV</td>\n",
       "      <td>Movie45</td>\n",
       "      <td>5</td>\n",
       "    </tr>\n",
       "  </tbody>\n",
       "</table>\n",
       "</div>"
      ],
      "text/plain": [
       "          User_id  Movie_id Rating\n",
       "0  A3LZBOBV9H1HDV  Movie192      5\n",
       "1  A3LZBOBV9H1HDV  Movie104      5\n",
       "2  A3LZBOBV9H1HDV   Movie59      5\n",
       "3  A3LZBOBV9H1HDV  Movie169      5\n",
       "4  A3LZBOBV9H1HDV   Movie45      5"
      ]
     },
     "metadata": {},
     "output_type": "display_data"
    },
    {
     "data": {
      "text/markdown": [
       "<span style='color:brown'>**Recommending top5mocies for a user_idA245YDUYUOMRP7...**</span>"
      ],
      "text/plain": [
       "<IPython.core.display.Markdown object>"
      ]
     },
     "metadata": {},
     "output_type": "display_data"
    },
    {
     "data": {
      "text/html": [
       "<div>\n",
       "<style scoped>\n",
       "    .dataframe tbody tr th:only-of-type {\n",
       "        vertical-align: middle;\n",
       "    }\n",
       "\n",
       "    .dataframe tbody tr th {\n",
       "        vertical-align: top;\n",
       "    }\n",
       "\n",
       "    .dataframe thead th {\n",
       "        text-align: right;\n",
       "    }\n",
       "</style>\n",
       "<table border=\"1\" class=\"dataframe\">\n",
       "  <thead>\n",
       "    <tr style=\"text-align: right;\">\n",
       "      <th></th>\n",
       "      <th>User_id</th>\n",
       "      <th>Movie_id</th>\n",
       "      <th>Rating</th>\n",
       "    </tr>\n",
       "  </thead>\n",
       "  <tbody>\n",
       "    <tr>\n",
       "      <th>0</th>\n",
       "      <td>A245YDUYUOMRP7</td>\n",
       "      <td>Movie167</td>\n",
       "      <td>5</td>\n",
       "    </tr>\n",
       "    <tr>\n",
       "      <th>1</th>\n",
       "      <td>A245YDUYUOMRP7</td>\n",
       "      <td>Movie70</td>\n",
       "      <td>5</td>\n",
       "    </tr>\n",
       "    <tr>\n",
       "      <th>2</th>\n",
       "      <td>A245YDUYUOMRP7</td>\n",
       "      <td>Movie67</td>\n",
       "      <td>5</td>\n",
       "    </tr>\n",
       "    <tr>\n",
       "      <th>3</th>\n",
       "      <td>A245YDUYUOMRP7</td>\n",
       "      <td>Movie154</td>\n",
       "      <td>5</td>\n",
       "    </tr>\n",
       "    <tr>\n",
       "      <th>4</th>\n",
       "      <td>A245YDUYUOMRP7</td>\n",
       "      <td>Movie192</td>\n",
       "      <td>5</td>\n",
       "    </tr>\n",
       "  </tbody>\n",
       "</table>\n",
       "</div>"
      ],
      "text/plain": [
       "          User_id  Movie_id Rating\n",
       "0  A245YDUYUOMRP7  Movie167      5\n",
       "1  A245YDUYUOMRP7   Movie70      5\n",
       "2  A245YDUYUOMRP7   Movie67      5\n",
       "3  A245YDUYUOMRP7  Movie154      5\n",
       "4  A245YDUYUOMRP7  Movie192      5"
      ]
     },
     "metadata": {},
     "output_type": "display_data"
    },
    {
     "data": {
      "text/markdown": [
       "<span style='color:brown'>**Recommending top5mocies for a user_idA1D2WZ8E9LSOU5...**</span>"
      ],
      "text/plain": [
       "<IPython.core.display.Markdown object>"
      ]
     },
     "metadata": {},
     "output_type": "display_data"
    },
    {
     "data": {
      "text/html": [
       "<div>\n",
       "<style scoped>\n",
       "    .dataframe tbody tr th:only-of-type {\n",
       "        vertical-align: middle;\n",
       "    }\n",
       "\n",
       "    .dataframe tbody tr th {\n",
       "        vertical-align: top;\n",
       "    }\n",
       "\n",
       "    .dataframe thead th {\n",
       "        text-align: right;\n",
       "    }\n",
       "</style>\n",
       "<table border=\"1\" class=\"dataframe\">\n",
       "  <thead>\n",
       "    <tr style=\"text-align: right;\">\n",
       "      <th></th>\n",
       "      <th>User_id</th>\n",
       "      <th>Movie_id</th>\n",
       "      <th>Rating</th>\n",
       "    </tr>\n",
       "  </thead>\n",
       "  <tbody>\n",
       "    <tr>\n",
       "      <th>0</th>\n",
       "      <td>A1D2WZ8E9LSOU5</td>\n",
       "      <td>Movie136</td>\n",
       "      <td>5</td>\n",
       "    </tr>\n",
       "    <tr>\n",
       "      <th>1</th>\n",
       "      <td>A1D2WZ8E9LSOU5</td>\n",
       "      <td>Movie182</td>\n",
       "      <td>5</td>\n",
       "    </tr>\n",
       "    <tr>\n",
       "      <th>2</th>\n",
       "      <td>A1D2WZ8E9LSOU5</td>\n",
       "      <td>Movie206</td>\n",
       "      <td>5</td>\n",
       "    </tr>\n",
       "    <tr>\n",
       "      <th>3</th>\n",
       "      <td>A1D2WZ8E9LSOU5</td>\n",
       "      <td>Movie160</td>\n",
       "      <td>5</td>\n",
       "    </tr>\n",
       "    <tr>\n",
       "      <th>4</th>\n",
       "      <td>A1D2WZ8E9LSOU5</td>\n",
       "      <td>Movie126</td>\n",
       "      <td>5</td>\n",
       "    </tr>\n",
       "  </tbody>\n",
       "</table>\n",
       "</div>"
      ],
      "text/plain": [
       "          User_id  Movie_id Rating\n",
       "0  A1D2WZ8E9LSOU5  Movie136      5\n",
       "1  A1D2WZ8E9LSOU5  Movie182      5\n",
       "2  A1D2WZ8E9LSOU5  Movie206      5\n",
       "3  A1D2WZ8E9LSOU5  Movie160      5\n",
       "4  A1D2WZ8E9LSOU5  Movie126      5"
      ]
     },
     "metadata": {},
     "output_type": "display_data"
    },
    {
     "data": {
      "text/markdown": [
       "<span style='color:brown'>**Recommending top5mocies for a user_idA2I2SZ5KFIW4OB...**</span>"
      ],
      "text/plain": [
       "<IPython.core.display.Markdown object>"
      ]
     },
     "metadata": {},
     "output_type": "display_data"
    },
    {
     "data": {
      "text/html": [
       "<div>\n",
       "<style scoped>\n",
       "    .dataframe tbody tr th:only-of-type {\n",
       "        vertical-align: middle;\n",
       "    }\n",
       "\n",
       "    .dataframe tbody tr th {\n",
       "        vertical-align: top;\n",
       "    }\n",
       "\n",
       "    .dataframe thead th {\n",
       "        text-align: right;\n",
       "    }\n",
       "</style>\n",
       "<table border=\"1\" class=\"dataframe\">\n",
       "  <thead>\n",
       "    <tr style=\"text-align: right;\">\n",
       "      <th></th>\n",
       "      <th>User_id</th>\n",
       "      <th>Movie_id</th>\n",
       "      <th>Rating</th>\n",
       "    </tr>\n",
       "  </thead>\n",
       "  <tbody>\n",
       "    <tr>\n",
       "      <th>0</th>\n",
       "      <td>A2I2SZ5KFIW4OB</td>\n",
       "      <td>Movie29</td>\n",
       "      <td>5</td>\n",
       "    </tr>\n",
       "    <tr>\n",
       "      <th>1</th>\n",
       "      <td>A2I2SZ5KFIW4OB</td>\n",
       "      <td>Movie28</td>\n",
       "      <td>5</td>\n",
       "    </tr>\n",
       "    <tr>\n",
       "      <th>2</th>\n",
       "      <td>A2I2SZ5KFIW4OB</td>\n",
       "      <td>Movie17</td>\n",
       "      <td>5</td>\n",
       "    </tr>\n",
       "    <tr>\n",
       "      <th>3</th>\n",
       "      <td>A2I2SZ5KFIW4OB</td>\n",
       "      <td>Movie90</td>\n",
       "      <td>5</td>\n",
       "    </tr>\n",
       "    <tr>\n",
       "      <th>4</th>\n",
       "      <td>A2I2SZ5KFIW4OB</td>\n",
       "      <td>Movie35</td>\n",
       "      <td>5</td>\n",
       "    </tr>\n",
       "  </tbody>\n",
       "</table>\n",
       "</div>"
      ],
      "text/plain": [
       "          User_id Movie_id Rating\n",
       "0  A2I2SZ5KFIW4OB  Movie29      5\n",
       "1  A2I2SZ5KFIW4OB  Movie28      5\n",
       "2  A2I2SZ5KFIW4OB  Movie17      5\n",
       "3  A2I2SZ5KFIW4OB  Movie90      5\n",
       "4  A2I2SZ5KFIW4OB  Movie35      5"
      ]
     },
     "metadata": {},
     "output_type": "display_data"
    }
   ],
   "source": [
    "# We will consider same users in test set to get the recommendations from different models\n",
    "user_0 = col_fil_knnwithmeans.recommend(user_id ='A3LZBOBV9H1HDV',n=5)\n",
    "user_1 = col_fil_knnwithmeans.recommend(user_id ='A245YDUYUOMRP7',n=5)\n",
    "user_2 = col_fil_knnwithmeans.recommend(user_id ='A1D2WZ8E9LSOU5',n=5)\n",
    "user_3 = col_fil_knnwithmeans.recommend(user_id ='A2I2SZ5KFIW4OB',n=5)"
   ]
  },
  {
   "cell_type": "markdown",
   "metadata": {},
   "source": [
    "**Observations:**\n",
    "* Using KNNWithMeans model we get RMSE of 0.0099 and cross validated RMSE of 0.008 \n",
    "* The recommendations are different for different users based on the similar users of the targeted user.\n",
    "* KNNWithMeans model uses cosine similarity to find the similar neighbours."
   ]
  },
  {
   "cell_type": "markdown",
   "metadata": {},
   "source": [
    "## 2.d] SVD "
   ]
  },
  {
   "cell_type": "markdown",
   "metadata": {},
   "source": [
    "The **Singular-Value Decomposition**, or SVD for short, is a matrix decomposition method for reducing a matrix to its constituent parts in order to make certain subsequent matrix calculations simpler. It provides another way to factorize a matrix, into singular vectors and singular values.\n",
    "\n",
    "A=U.Sigma.transpose(V)"
   ]
  },
  {
   "cell_type": "markdown",
   "metadata": {},
   "source": [
    "### 2.d.1] Find optimized model using randomized searchcv "
   ]
  },
  {
   "cell_type": "code",
   "execution_count": 77,
   "metadata": {},
   "outputs": [
    {
     "name": "stdout",
     "output_type": "stream",
     "text": [
      "{'rmse': 0.34513678562039657}\n",
      "{'rmse': {'n_epochs': 10, 'lr_all': 0.005, 'reg_all': 0.4}}\n",
      "{'rmse': <surprise.prediction_algorithms.matrix_factorization.SVD object at 0x0000024D26577F48>}\n"
     ]
    }
   ],
   "source": [
    "'''\n",
    "n_epochs – The number of iteration of the SGD procedure. Default is 20.\n",
    "lr_all – The learning rate for all parameters. Default is 0.005.\n",
    "reg_all – The regularization term for all parameters. Default is 0.02.\n",
    "'''\n",
    "params = {\n",
    "    'n_epochs':[5,10,15,20],\n",
    "    'lr_all':[0.002, 0.005],\n",
    "    'reg_all':[0.4,0.6]\n",
    "}\n",
    "\n",
    "clf = find_best_model(SVD,params,surprise_dataset)"
   ]
  },
  {
   "cell_type": "markdown",
   "metadata": {},
   "source": [
    "### 2.d.2] Initialize"
   ]
  },
  {
   "cell_type": "code",
   "execution_count": 78,
   "metadata": {},
   "outputs": [],
   "source": [
    "svd = clf.best_estimator['rmse']\n",
    "col_fil_svd = collaborative_filtering(svd,trainset,testset,surprise_dataset)"
   ]
  },
  {
   "cell_type": "markdown",
   "metadata": {},
   "source": [
    "### 2.d.3] Fit and Predict"
   ]
  },
  {
   "cell_type": "code",
   "execution_count": 79,
   "metadata": {},
   "outputs": [
    {
     "data": {
      "text/markdown": [
       "<span style='color:brown'>**Fitting the train data...**</span>"
      ],
      "text/plain": [
       "<IPython.core.display.Markdown object>"
      ]
     },
     "metadata": {},
     "output_type": "display_data"
    },
    {
     "data": {
      "text/markdown": [
       "<span style='color:brown'>**Predicting the test data...**</span>"
      ],
      "text/plain": [
       "<IPython.core.display.Markdown object>"
      ]
     },
     "metadata": {},
     "output_type": "display_data"
    },
    {
     "name": "stdout",
     "output_type": "stream",
     "text": [
      "RMSE: 0.3454\n"
     ]
    },
    {
     "data": {
      "text/markdown": [
       "<span style='color:brown'>**RMSE for the predictions made on test data is0.345**</span>"
      ],
      "text/plain": [
       "<IPython.core.display.Markdown object>"
      ]
     },
     "metadata": {},
     "output_type": "display_data"
    }
   ],
   "source": [
    "svd_rmse = col_fil_svd.fit_and_predict()"
   ]
  },
  {
   "cell_type": "markdown",
   "metadata": {},
   "source": [
    "### 2.d.4]  Cross Validate "
   ]
  },
  {
   "cell_type": "code",
   "execution_count": 80,
   "metadata": {},
   "outputs": [
    {
     "data": {
      "text/markdown": [
       "<span style='color:brown'>**Cross validating the data...**</span>"
      ],
      "text/plain": [
       "<IPython.core.display.Markdown object>"
      ]
     },
     "metadata": {},
     "output_type": "display_data"
    },
    {
     "data": {
      "text/markdown": [
       "<span style='color:brown'>**Mean CV RMSE is0.345**</span>"
      ],
      "text/plain": [
       "<IPython.core.display.Markdown object>"
      ]
     },
     "metadata": {},
     "output_type": "display_data"
    }
   ],
   "source": [
    "svd_cv_rmse = col_fil_svd.cross_validate()"
   ]
  },
  {
   "cell_type": "markdown",
   "metadata": {},
   "source": [
    "### 2.d.5] Recommend"
   ]
  },
  {
   "cell_type": "code",
   "execution_count": 81,
   "metadata": {},
   "outputs": [
    {
     "data": {
      "text/markdown": [
       "<span style='color:brown'>**Recommending top5mocies for a user_idA3LZBOBV9H1HDV...**</span>"
      ],
      "text/plain": [
       "<IPython.core.display.Markdown object>"
      ]
     },
     "metadata": {},
     "output_type": "display_data"
    },
    {
     "data": {
      "text/html": [
       "<div>\n",
       "<style scoped>\n",
       "    .dataframe tbody tr th:only-of-type {\n",
       "        vertical-align: middle;\n",
       "    }\n",
       "\n",
       "    .dataframe tbody tr th {\n",
       "        vertical-align: top;\n",
       "    }\n",
       "\n",
       "    .dataframe thead th {\n",
       "        text-align: right;\n",
       "    }\n",
       "</style>\n",
       "<table border=\"1\" class=\"dataframe\">\n",
       "  <thead>\n",
       "    <tr style=\"text-align: right;\">\n",
       "      <th></th>\n",
       "      <th>User_id</th>\n",
       "      <th>Movie_id</th>\n",
       "      <th>Rating</th>\n",
       "    </tr>\n",
       "  </thead>\n",
       "  <tbody>\n",
       "    <tr>\n",
       "      <th>0</th>\n",
       "      <td>A3LZBOBV9H1HDV</td>\n",
       "      <td>Movie204</td>\n",
       "      <td>4.829526</td>\n",
       "    </tr>\n",
       "    <tr>\n",
       "      <th>1</th>\n",
       "      <td>A3LZBOBV9H1HDV</td>\n",
       "      <td>Movie62</td>\n",
       "      <td>4.822883</td>\n",
       "    </tr>\n",
       "    <tr>\n",
       "      <th>2</th>\n",
       "      <td>A3LZBOBV9H1HDV</td>\n",
       "      <td>Movie12</td>\n",
       "      <td>4.820105</td>\n",
       "    </tr>\n",
       "    <tr>\n",
       "      <th>3</th>\n",
       "      <td>A3LZBOBV9H1HDV</td>\n",
       "      <td>Movie89</td>\n",
       "      <td>4.816093</td>\n",
       "    </tr>\n",
       "    <tr>\n",
       "      <th>4</th>\n",
       "      <td>A3LZBOBV9H1HDV</td>\n",
       "      <td>Movie182</td>\n",
       "      <td>4.815461</td>\n",
       "    </tr>\n",
       "  </tbody>\n",
       "</table>\n",
       "</div>"
      ],
      "text/plain": [
       "          User_id  Movie_id    Rating\n",
       "0  A3LZBOBV9H1HDV  Movie204  4.829526\n",
       "1  A3LZBOBV9H1HDV   Movie62  4.822883\n",
       "2  A3LZBOBV9H1HDV   Movie12  4.820105\n",
       "3  A3LZBOBV9H1HDV   Movie89  4.816093\n",
       "4  A3LZBOBV9H1HDV  Movie182  4.815461"
      ]
     },
     "metadata": {},
     "output_type": "display_data"
    },
    {
     "data": {
      "text/markdown": [
       "<span style='color:brown'>**Recommending top5mocies for a user_idA245YDUYUOMRP7...**</span>"
      ],
      "text/plain": [
       "<IPython.core.display.Markdown object>"
      ]
     },
     "metadata": {},
     "output_type": "display_data"
    },
    {
     "data": {
      "text/html": [
       "<div>\n",
       "<style scoped>\n",
       "    .dataframe tbody tr th:only-of-type {\n",
       "        vertical-align: middle;\n",
       "    }\n",
       "\n",
       "    .dataframe tbody tr th {\n",
       "        vertical-align: top;\n",
       "    }\n",
       "\n",
       "    .dataframe thead th {\n",
       "        text-align: right;\n",
       "    }\n",
       "</style>\n",
       "<table border=\"1\" class=\"dataframe\">\n",
       "  <thead>\n",
       "    <tr style=\"text-align: right;\">\n",
       "      <th></th>\n",
       "      <th>User_id</th>\n",
       "      <th>Movie_id</th>\n",
       "      <th>Rating</th>\n",
       "    </tr>\n",
       "  </thead>\n",
       "  <tbody>\n",
       "    <tr>\n",
       "      <th>0</th>\n",
       "      <td>A245YDUYUOMRP7</td>\n",
       "      <td>Movie62</td>\n",
       "      <td>4.834612</td>\n",
       "    </tr>\n",
       "    <tr>\n",
       "      <th>1</th>\n",
       "      <td>A245YDUYUOMRP7</td>\n",
       "      <td>Movie138</td>\n",
       "      <td>4.834375</td>\n",
       "    </tr>\n",
       "    <tr>\n",
       "      <th>2</th>\n",
       "      <td>A245YDUYUOMRP7</td>\n",
       "      <td>Movie31</td>\n",
       "      <td>4.829687</td>\n",
       "    </tr>\n",
       "    <tr>\n",
       "      <th>3</th>\n",
       "      <td>A245YDUYUOMRP7</td>\n",
       "      <td>Movie197</td>\n",
       "      <td>4.829591</td>\n",
       "    </tr>\n",
       "    <tr>\n",
       "      <th>4</th>\n",
       "      <td>A245YDUYUOMRP7</td>\n",
       "      <td>Movie134</td>\n",
       "      <td>4.828410</td>\n",
       "    </tr>\n",
       "  </tbody>\n",
       "</table>\n",
       "</div>"
      ],
      "text/plain": [
       "          User_id  Movie_id    Rating\n",
       "0  A245YDUYUOMRP7   Movie62  4.834612\n",
       "1  A245YDUYUOMRP7  Movie138  4.834375\n",
       "2  A245YDUYUOMRP7   Movie31  4.829687\n",
       "3  A245YDUYUOMRP7  Movie197  4.829591\n",
       "4  A245YDUYUOMRP7  Movie134  4.828410"
      ]
     },
     "metadata": {},
     "output_type": "display_data"
    },
    {
     "data": {
      "text/markdown": [
       "<span style='color:brown'>**Recommending top5mocies for a user_idA1D2WZ8E9LSOU5...**</span>"
      ],
      "text/plain": [
       "<IPython.core.display.Markdown object>"
      ]
     },
     "metadata": {},
     "output_type": "display_data"
    },
    {
     "data": {
      "text/html": [
       "<div>\n",
       "<style scoped>\n",
       "    .dataframe tbody tr th:only-of-type {\n",
       "        vertical-align: middle;\n",
       "    }\n",
       "\n",
       "    .dataframe tbody tr th {\n",
       "        vertical-align: top;\n",
       "    }\n",
       "\n",
       "    .dataframe thead th {\n",
       "        text-align: right;\n",
       "    }\n",
       "</style>\n",
       "<table border=\"1\" class=\"dataframe\">\n",
       "  <thead>\n",
       "    <tr style=\"text-align: right;\">\n",
       "      <th></th>\n",
       "      <th>User_id</th>\n",
       "      <th>Movie_id</th>\n",
       "      <th>Rating</th>\n",
       "    </tr>\n",
       "  </thead>\n",
       "  <tbody>\n",
       "    <tr>\n",
       "      <th>0</th>\n",
       "      <td>A1D2WZ8E9LSOU5</td>\n",
       "      <td>Movie160</td>\n",
       "      <td>4.843256</td>\n",
       "    </tr>\n",
       "    <tr>\n",
       "      <th>1</th>\n",
       "      <td>A1D2WZ8E9LSOU5</td>\n",
       "      <td>Movie204</td>\n",
       "      <td>4.841813</td>\n",
       "    </tr>\n",
       "    <tr>\n",
       "      <th>2</th>\n",
       "      <td>A1D2WZ8E9LSOU5</td>\n",
       "      <td>Movie174</td>\n",
       "      <td>4.831903</td>\n",
       "    </tr>\n",
       "    <tr>\n",
       "      <th>3</th>\n",
       "      <td>A1D2WZ8E9LSOU5</td>\n",
       "      <td>Movie172</td>\n",
       "      <td>4.830564</td>\n",
       "    </tr>\n",
       "    <tr>\n",
       "      <th>4</th>\n",
       "      <td>A1D2WZ8E9LSOU5</td>\n",
       "      <td>Movie158</td>\n",
       "      <td>4.830406</td>\n",
       "    </tr>\n",
       "  </tbody>\n",
       "</table>\n",
       "</div>"
      ],
      "text/plain": [
       "          User_id  Movie_id    Rating\n",
       "0  A1D2WZ8E9LSOU5  Movie160  4.843256\n",
       "1  A1D2WZ8E9LSOU5  Movie204  4.841813\n",
       "2  A1D2WZ8E9LSOU5  Movie174  4.831903\n",
       "3  A1D2WZ8E9LSOU5  Movie172  4.830564\n",
       "4  A1D2WZ8E9LSOU5  Movie158  4.830406"
      ]
     },
     "metadata": {},
     "output_type": "display_data"
    },
    {
     "data": {
      "text/markdown": [
       "<span style='color:brown'>**Recommending top5mocies for a user_idA2I2SZ5KFIW4OB...**</span>"
      ],
      "text/plain": [
       "<IPython.core.display.Markdown object>"
      ]
     },
     "metadata": {},
     "output_type": "display_data"
    },
    {
     "data": {
      "text/html": [
       "<div>\n",
       "<style scoped>\n",
       "    .dataframe tbody tr th:only-of-type {\n",
       "        vertical-align: middle;\n",
       "    }\n",
       "\n",
       "    .dataframe tbody tr th {\n",
       "        vertical-align: top;\n",
       "    }\n",
       "\n",
       "    .dataframe thead th {\n",
       "        text-align: right;\n",
       "    }\n",
       "</style>\n",
       "<table border=\"1\" class=\"dataframe\">\n",
       "  <thead>\n",
       "    <tr style=\"text-align: right;\">\n",
       "      <th></th>\n",
       "      <th>User_id</th>\n",
       "      <th>Movie_id</th>\n",
       "      <th>Rating</th>\n",
       "    </tr>\n",
       "  </thead>\n",
       "  <tbody>\n",
       "    <tr>\n",
       "      <th>0</th>\n",
       "      <td>A2I2SZ5KFIW4OB</td>\n",
       "      <td>Movie160</td>\n",
       "      <td>4.829701</td>\n",
       "    </tr>\n",
       "    <tr>\n",
       "      <th>1</th>\n",
       "      <td>A2I2SZ5KFIW4OB</td>\n",
       "      <td>Movie137</td>\n",
       "      <td>4.825465</td>\n",
       "    </tr>\n",
       "    <tr>\n",
       "      <th>2</th>\n",
       "      <td>A2I2SZ5KFIW4OB</td>\n",
       "      <td>Movie162</td>\n",
       "      <td>4.818420</td>\n",
       "    </tr>\n",
       "    <tr>\n",
       "      <th>3</th>\n",
       "      <td>A2I2SZ5KFIW4OB</td>\n",
       "      <td>Movie158</td>\n",
       "      <td>4.816845</td>\n",
       "    </tr>\n",
       "    <tr>\n",
       "      <th>4</th>\n",
       "      <td>A2I2SZ5KFIW4OB</td>\n",
       "      <td>Movie188</td>\n",
       "      <td>4.816282</td>\n",
       "    </tr>\n",
       "  </tbody>\n",
       "</table>\n",
       "</div>"
      ],
      "text/plain": [
       "          User_id  Movie_id    Rating\n",
       "0  A2I2SZ5KFIW4OB  Movie160  4.829701\n",
       "1  A2I2SZ5KFIW4OB  Movie137  4.825465\n",
       "2  A2I2SZ5KFIW4OB  Movie162  4.818420\n",
       "3  A2I2SZ5KFIW4OB  Movie158  4.816845\n",
       "4  A2I2SZ5KFIW4OB  Movie188  4.816282"
      ]
     },
     "metadata": {},
     "output_type": "display_data"
    }
   ],
   "source": [
    "user_0 = col_fil_svd.recommend(user_id = 'A3LZBOBV9H1HDV',n=5)\n",
    "user_1 = col_fil_svd.recommend(user_id = 'A245YDUYUOMRP7',n=5)\n",
    "user_2 = col_fil_svd.recommend(user_id = 'A1D2WZ8E9LSOU5',n=5)\n",
    "user_3 = col_fil_svd.recommend(user_id = 'A2I2SZ5KFIW4OB',n=5)"
   ]
  },
  {
   "cell_type": "markdown",
   "metadata": {},
   "source": [
    "**Observations:**\n",
    "* Using SVD we got the RMSE of 0.3454 and cross validated RMSE of 0.345.\n",
    "* The recommendations are different for different users as they are infered by filling out missing entries in the matrix during matrix factorization using SVD."
   ]
  },
  {
   "cell_type": "markdown",
   "metadata": {},
   "source": [
    "**Conclusion:**\n",
    "* In conclusion we performed EDA on the data given.\n",
    "* We build popularity based recommendation model, collaborative filtering model using KNNWithMeans Model and SVD and we got good RMSE, which indicates that these recommendations, if made, will be useful for the customers."
   ]
  },
  {
   "cell_type": "markdown",
   "metadata": {},
   "source": [
    "<h1 style='color:Purple'>Thank you..!</h1>"
   ]
  }
 ],
 "metadata": {
  "kernelspec": {
   "display_name": "Python 3",
   "language": "python",
   "name": "python3"
  },
  "language_info": {
   "codemirror_mode": {
    "name": "ipython",
    "version": 3
   },
   "file_extension": ".py",
   "mimetype": "text/x-python",
   "name": "python",
   "nbconvert_exporter": "python",
   "pygments_lexer": "ipython3",
   "version": "3.7.6"
  }
 },
 "nbformat": 4,
 "nbformat_minor": 4
}
